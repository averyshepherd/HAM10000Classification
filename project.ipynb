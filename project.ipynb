{
 "cells": [
  {
   "cell_type": "code",
   "execution_count": 1,
   "metadata": {
    "ExecuteTime": {
     "end_time": "2021-11-18T22:47:07.375517Z",
     "start_time": "2021-11-18T22:47:07.223097Z"
    },
    "execution": {
     "iopub.execute_input": "2021-05-29T08:02:38.710006Z",
     "iopub.status.busy": "2021-05-29T08:02:38.709644Z",
     "iopub.status.idle": "2021-05-29T08:02:52.906946Z",
     "shell.execute_reply": "2021-05-29T08:02:52.905572Z",
     "shell.execute_reply.started": "2021-05-29T08:02:38.709928Z"
    }
   },
   "outputs": [],
   "source": [
    "from tensorflow import keras\n",
    "from tensorflow.keras import layers\n",
    "from tensorflow.keras.layers.experimental import preprocessing\n",
    "\n",
    "import matplotlib.pyplot as plt\n",
    "from matplotlib import gridspec\n",
    "\n",
    "import numpy as np\n",
    "import tensorflow as tf\n",
    "from tensorflow.keras.preprocessing import image_dataset_from_directory\n",
    "from tensorflow.keras.preprocessing.image import ImageDataGenerator\n",
    "\n",
    "import pandas as pd\n",
    "\n",
    "from os import listdir\n",
    "from os.path import isfile, join\n",
    "\n",
    "import shutil\n",
    "\n",
    "import seaborn as sns\n",
    "\n",
    "from sklearn.metrics import confusion_matrix\n",
    "\n",
    "%matplotlib inline"
   ]
  },
  {
   "cell_type": "code",
   "execution_count": 27,
   "metadata": {},
   "outputs": [
    {
     "data": {
      "text/plain": [
       "['akiec', 'bcc', 'bkl', 'df', 'mel', 'nv', 'vasc']"
      ]
     },
     "execution_count": 27,
     "metadata": {},
     "output_type": "execute_result"
    }
   ],
   "source": [
    "df = pd.read_csv('data/HAM10000_metadata.csv')\n",
    "df.head()\n",
    "\n",
    "filtered = df.iloc[list(range(0, len(df), 2)),:].copy().reset_index(drop = True)\n",
    "filtered.head()\n",
    "\n",
    "filtered['dx'].value_counts(normalize = True)\n",
    "\n",
    "label_encoding = sorted(list(filtered['dx'].unique()))\n",
    "label_encoding\n",
    "\n",
    "#############Enablefor mving files #################\n",
    "\n",
    "# image_labels = dict(zip(filtered['image_id'], filtered['dx']))\n",
    "\n",
    "# train_path = 'data/all_images'\n",
    "# onlyfiles = [f for f in listdir(train_path) if isfile(join(train_path, f))]\n",
    "\n",
    "# for i in filtered['image_id']:\n",
    "#     source = train_path + \"/\" + i + '.jpg'\n",
    "#     dest = train_path + \"/\" + image_labels[i] + \"/\" + i + '.jpg'\n",
    "# #     print(source)\n",
    "# #     print(dest)\n",
    "#     shutil.copy(source, dest)"
   ]
  },
  {
   "cell_type": "code",
   "execution_count": 9,
   "metadata": {
    "ExecuteTime": {
     "end_time": "2021-11-18T22:47:07.375517Z",
     "start_time": "2021-11-18T22:47:07.223097Z"
    },
    "execution": {
     "iopub.execute_input": "2021-05-29T08:02:38.710006Z",
     "iopub.status.busy": "2021-05-29T08:02:38.709644Z",
     "iopub.status.idle": "2021-05-29T08:02:52.906946Z",
     "shell.execute_reply": "2021-05-29T08:02:52.905572Z",
     "shell.execute_reply.started": "2021-05-29T08:02:38.709928Z"
    }
   },
   "outputs": [
    {
     "name": "stdout",
     "output_type": "stream",
     "text": [
      "Found 5008 files belonging to 7 classes.\n",
      "Using 4007 files for training.\n",
      "Found 5008 files belonging to 7 classes.\n",
      "Using 1001 files for validation.\n"
     ]
    }
   ],
   "source": [
    "# Load training and validation sets\n",
    "\n",
    "# prefetches images\n",
    "# keep the images for training ready. \n",
    "# when one batch is being used for training\n",
    "\n",
    "ds_train_ = image_dataset_from_directory(\n",
    "    'data/all_images',\n",
    "    labels='inferred',\n",
    "    label_mode='categorical',\n",
    "    image_size=[600, 450],\n",
    "    interpolation='nearest',\n",
    "    batch_size=32,\n",
    "    shuffle=True,\n",
    "    color_mode = 'rgb',\n",
    "    validation_split = 0.2,\n",
    "    subset = 'training',\n",
    "    seed = 1\n",
    ")\n",
    "ds_valid_ = image_dataset_from_directory(\n",
    "    'data/all_images',\n",
    "    labels='inferred',\n",
    "    label_mode='categorical',\n",
    "    image_size=[600, 450],\n",
    "    interpolation='nearest',\n",
    "    batch_size=32,\n",
    "    shuffle=True,\n",
    "    color_mode = 'rgb',\n",
    "    validation_split = 0.2,\n",
    "    subset = 'validation',\n",
    "    seed = 1\n",
    ")\n",
    "\n",
    "# Data Pipeline\n",
    "def convert_to_float(image, label):\n",
    "    image = tf.image.convert_image_dtype(image, dtype=tf.float32)\n",
    "    return image, label\n",
    "\n",
    "AUTOTUNE = tf.data.experimental.AUTOTUNE\n",
    "ds_train = (\n",
    "    ds_train_\n",
    "    .map(convert_to_float)\n",
    "    .cache()\n",
    "    .prefetch(buffer_size=AUTOTUNE)\n",
    ")\n",
    "ds_valid = (\n",
    "    ds_valid_\n",
    "    .map(convert_to_float)\n",
    "    .cache()\n",
    "    .prefetch(buffer_size=AUTOTUNE)\n",
    ")"
   ]
  },
  {
   "cell_type": "markdown",
   "metadata": {},
   "source": [
    "# Data Augmentation (To be explored later)"
   ]
  },
  {
   "cell_type": "code",
   "execution_count": 28,
   "metadata": {
    "execution": {
     "iopub.execute_input": "2021-05-29T08:02:52.908721Z",
     "iopub.status.busy": "2021-05-29T08:02:52.908456Z",
     "iopub.status.idle": "2021-05-29T08:02:56.178102Z",
     "shell.execute_reply": "2021-05-29T08:02:56.177185Z",
     "shell.execute_reply.started": "2021-05-29T08:02:52.908696Z"
    },
    "lines_to_next_cell": 0
   },
   "outputs": [],
   "source": [
    "# all of the \"factor\" parameters indicate a percent-change\n",
    "augment = keras.Sequential([\n",
    "    # preprocessing.RandomContrast(factor=0.5),\n",
    "    preprocessing.RandomFlip(mode='horizontal'), # meaning, left-to-right\n",
    "    # preprocessing.RandomFlip(mode='vertical'), # meaning, top-to-bottom\n",
    "    # preprocessing.RandomWidth(factor=0.15), # horizontal stretch\n",
    "    # preprocessing.RandomRotation(factor=0.20),\n",
    "    # preprocessing.RandomTranslation(height_factor=0.1, width_factor=0.1),\n",
    "])"
   ]
  },
  {
   "cell_type": "markdown",
   "metadata": {},
   "source": [
    "# NN"
   ]
  },
  {
   "cell_type": "markdown",
   "metadata": {},
   "source": [
    "## NN creation"
   ]
  },
  {
   "cell_type": "code",
   "execution_count": 11,
   "metadata": {
    "execution": {
     "iopub.execute_input": "2021-05-29T08:10:47.521153Z",
     "iopub.status.busy": "2021-05-29T08:10:47.520841Z",
     "iopub.status.idle": "2021-05-29T08:10:47.708034Z",
     "shell.execute_reply": "2021-05-29T08:10:47.70703Z",
     "shell.execute_reply.started": "2021-05-29T08:10:47.521124Z"
    },
    "lines_to_next_cell": 2
   },
   "outputs": [
    {
     "name": "stdout",
     "output_type": "stream",
     "text": [
      "Model: \"sequential_1\"\n",
      "_________________________________________________________________\n",
      "Layer (type)                 Output Shape              Param #   \n",
      "=================================================================\n",
      "batch_normalization (BatchNo (None, 600, 450, 3)       21        \n",
      "_________________________________________________________________\n",
      "conv2d (Conv2D)              (None, 600, 450, 32)      2432      \n",
      "_________________________________________________________________\n",
      "max_pooling2d (MaxPooling2D) (None, 300, 225, 32)      0         \n",
      "_________________________________________________________________\n",
      "batch_normalization_1 (Batch (None, 300, 225, 32)      224       \n",
      "_________________________________________________________________\n",
      "conv2d_1 (Conv2D)            (None, 300, 225, 32)      25632     \n",
      "_________________________________________________________________\n",
      "max_pooling2d_1 (MaxPooling2 (None, 150, 112, 32)      0         \n",
      "_________________________________________________________________\n",
      "batch_normalization_2 (Batch (None, 150, 112, 32)      224       \n",
      "_________________________________________________________________\n",
      "conv2d_2 (Conv2D)            (None, 150, 112, 16)      12816     \n",
      "_________________________________________________________________\n",
      "max_pooling2d_2 (MaxPooling2 (None, 75, 56, 16)        0         \n",
      "_________________________________________________________________\n",
      "batch_normalization_3 (Batch (None, 75, 56, 16)        112       \n",
      "_________________________________________________________________\n",
      "conv2d_3 (Conv2D)            (None, 75, 56, 8)         1160      \n",
      "_________________________________________________________________\n",
      "max_pooling2d_3 (MaxPooling2 (None, 37, 28, 8)         0         \n",
      "_________________________________________________________________\n",
      "batch_normalization_4 (Batch (None, 37, 28, 8)         56        \n",
      "_________________________________________________________________\n",
      "flatten (Flatten)            (None, 8288)              0         \n",
      "_________________________________________________________________\n",
      "dense (Dense)                (None, 32)                265248    \n",
      "_________________________________________________________________\n",
      "dense_1 (Dense)              (None, 7)                 231       \n",
      "=================================================================\n",
      "Total params: 308,156\n",
      "Trainable params: 307,701\n",
      "Non-trainable params: 455\n",
      "_________________________________________________________________\n"
     ]
    }
   ],
   "source": [
    "from tensorflow import keras\n",
    "from tensorflow.keras import layers\n",
    "\n",
    "model = keras.Sequential([\n",
    "    #input image\n",
    "    layers.InputLayer(input_shape=[600, 450, 3]),\n",
    "    \n",
    "    # Block One\n",
    "    layers.BatchNormalization(renorm=True),\n",
    "    layers.Conv2D(filters=32, kernel_size=5, activation='relu', padding='same'),\n",
    "    layers.MaxPool2D(),\n",
    "\n",
    "    # Block Two\n",
    "    layers.BatchNormalization(renorm=True),\n",
    "    layers.Conv2D(filters=32, kernel_size=5, activation='relu', padding='same'),\n",
    "    layers.MaxPool2D(),\n",
    "\n",
    "    # Block Three\n",
    "    layers.BatchNormalization(renorm=True),\n",
    "    layers.Conv2D(filters=16, kernel_size=5, activation='relu', padding='same'),\n",
    "    layers.MaxPool2D(),\n",
    "    \n",
    "    # Block four\n",
    "    layers.BatchNormalization(renorm=True),\n",
    "    layers.Conv2D(filters=8, kernel_size=3, activation='relu', padding='same'),\n",
    "    layers.MaxPool2D(),\n",
    "\n",
    "    # Flattening back to \"1D\"\n",
    "    layers.BatchNormalization(renorm=True),\n",
    "    layers.Flatten(),\n",
    "    layers.Dense(32, activation='relu'),\n",
    "    \n",
    "    #output\n",
    "    layers.Dense(7, activation='softmax'),\n",
    "])\n",
    "\n",
    "optimizer = tf.keras.optimizers.Adam(epsilon=0.01)\n",
    "model.compile(\n",
    "    optimizer=optimizer,\n",
    "    loss='categorical_crossentropy',\n",
    "    metrics=['categorical_accuracy'],\n",
    ")\n",
    "\n",
    "model.summary()"
   ]
  },
  {
   "cell_type": "code",
   "execution_count": 12,
   "metadata": {},
   "outputs": [
    {
     "name": "stdout",
     "output_type": "stream",
     "text": [
      "126/126 [==============================] - 1176s 9s/step - loss: 1.3283 - categorical_accuracy: 0.6284 - val_loss: 1.2876 - val_categorical_accuracy: 0.6523\n"
     ]
    }
   ],
   "source": [
    "history = model.fit(\n",
    "    ds_train,\n",
    "    validation_data=ds_valid,\n",
    "    epochs=1,\n",
    "    use_multiprocessing=True,\n",
    ")"
   ]
  },
  {
   "cell_type": "code",
   "execution_count": 13,
   "metadata": {
    "execution": {
     "iopub.execute_input": "2021-05-29T08:10:53.795805Z",
     "iopub.status.busy": "2021-05-29T08:10:53.795434Z",
     "iopub.status.idle": "2021-05-29T08:20:37.694037Z",
     "shell.execute_reply": "2021-05-29T08:20:37.693307Z",
     "shell.execute_reply.started": "2021-05-29T08:10:53.795774Z"
    },
    "lines_to_next_cell": 2
   },
   "outputs": [
    {
     "data": {
      "image/png": "[encoded data removed]",
      "text/plain": [
       "<Figure size 432x288 with 1 Axes>"
      ]
     },
     "metadata": {
      "needs_background": "light"
     },
     "output_type": "display_data"
    },
    {
     "data": {
      "image/png": "[encoded data removed]",
      "text/plain": [
       "<Figure size 432x288 with 1 Axes>"
      ]
     },
     "metadata": {
      "needs_background": "light"
     },
     "output_type": "display_data"
    }
   ],
   "source": [
    "history_frame = pd.DataFrame(history.history)\n",
    "history_frame.loc[:, ['loss', 'val_loss']].plot()\n",
    "history_frame.loc[:, ['categorical_accuracy', 'val_categorical_accuracy']].plot();"
   ]
  },
  {
   "cell_type": "code",
   "execution_count": 14,
   "metadata": {},
   "outputs": [
    {
     "name": "stdout",
     "output_type": "stream",
     "text": [
      "WARNING:tensorflow:From C:\\Users\\singl\\AppData\\Local\\Temp/ipykernel_10268/895971012.py:4: Sequential.predict_classes (from tensorflow.python.keras.engine.sequential) is deprecated and will be removed after 2021-01-01.\n",
      "Instructions for updating:\n",
      "Please use instead:* `np.argmax(model.predict(x), axis=-1)`,   if your model does multi-class classification   (e.g. if it uses a `softmax` last-layer activation).* `(model.predict(x) > 0.5).astype(\"int32\")`,   if your model does binary classification   (e.g. if it uses a `sigmoid` last-layer activation).\n"
     ]
    },
    {
     "data": {
      "text/plain": [
       "array([[   9,   35,   14,    2,    2,   54,    6],\n",
       "       [  31,   42,   35,    1,   11,   83,    7],\n",
       "       [   5,  116,   47,    0,   16,  240,    5],\n",
       "       [   6,    9,    8,    0,    2,   22,    3],\n",
       "       [   2,   34,   16,    0,    8,  400,    3],\n",
       "       [  20,  105,   41,    1,   26, 2489,    3],\n",
       "       [   2,    1,    0,    0,    1,   43,    1]], dtype=int64)"
      ]
     },
     "execution_count": 14,
     "metadata": {},
     "output_type": "execute_result"
    }
   ],
   "source": [
    "predictions = np.array([])\n",
    "labels =  np.array([])\n",
    "for x, y in ds_train:\n",
    "  predictions = np.concatenate([predictions, model.predict_classes(x)])\n",
    "  labels = np.concatenate([labels, np.argmax(y.numpy(), axis=-1)])\n",
    "\n",
    "confusion_matrix(y_true=labels, y_pred=predictions)"
   ]
  },
  {
   "cell_type": "code",
   "execution_count": 15,
   "metadata": {},
   "outputs": [
    {
     "data": {
      "text/html": [
       "<div>\n",
       "<style scoped>\n",
       "    .dataframe tbody tr th:only-of-type {\n",
       "        vertical-align: middle;\n",
       "    }\n",
       "\n",
       "    .dataframe tbody tr th {\n",
       "        vertical-align: top;\n",
       "    }\n",
       "\n",
       "    .dataframe thead th {\n",
       "        text-align: right;\n",
       "    }\n",
       "</style>\n",
       "<table border=\"1\" class=\"dataframe\">\n",
       "  <thead>\n",
       "    <tr style=\"text-align: right;\">\n",
       "      <th></th>\n",
       "      <th>akiec</th>\n",
       "      <th>bcc</th>\n",
       "      <th>bkl</th>\n",
       "      <th>df</th>\n",
       "      <th>mel</th>\n",
       "      <th>nv</th>\n",
       "      <th>vasc</th>\n",
       "    </tr>\n",
       "  </thead>\n",
       "  <tbody>\n",
       "    <tr>\n",
       "      <th>akiec</th>\n",
       "      <td>0.120000</td>\n",
       "      <td>0.102339</td>\n",
       "      <td>0.086957</td>\n",
       "      <td>0.50</td>\n",
       "      <td>0.030303</td>\n",
       "      <td>0.016211</td>\n",
       "      <td>0.214286</td>\n",
       "    </tr>\n",
       "    <tr>\n",
       "      <th>bcc</th>\n",
       "      <td>0.413333</td>\n",
       "      <td>0.122807</td>\n",
       "      <td>0.217391</td>\n",
       "      <td>0.25</td>\n",
       "      <td>0.166667</td>\n",
       "      <td>0.024917</td>\n",
       "      <td>0.250000</td>\n",
       "    </tr>\n",
       "    <tr>\n",
       "      <th>bkl</th>\n",
       "      <td>0.066667</td>\n",
       "      <td>0.339181</td>\n",
       "      <td>0.291925</td>\n",
       "      <td>0.00</td>\n",
       "      <td>0.242424</td>\n",
       "      <td>0.072050</td>\n",
       "      <td>0.178571</td>\n",
       "    </tr>\n",
       "    <tr>\n",
       "      <th>df</th>\n",
       "      <td>0.080000</td>\n",
       "      <td>0.026316</td>\n",
       "      <td>0.049689</td>\n",
       "      <td>0.00</td>\n",
       "      <td>0.030303</td>\n",
       "      <td>0.006605</td>\n",
       "      <td>0.107143</td>\n",
       "    </tr>\n",
       "    <tr>\n",
       "      <th>mel</th>\n",
       "      <td>0.026667</td>\n",
       "      <td>0.099415</td>\n",
       "      <td>0.099379</td>\n",
       "      <td>0.00</td>\n",
       "      <td>0.121212</td>\n",
       "      <td>0.120084</td>\n",
       "      <td>0.107143</td>\n",
       "    </tr>\n",
       "    <tr>\n",
       "      <th>nv</th>\n",
       "      <td>0.266667</td>\n",
       "      <td>0.307018</td>\n",
       "      <td>0.254658</td>\n",
       "      <td>0.25</td>\n",
       "      <td>0.393939</td>\n",
       "      <td>0.747223</td>\n",
       "      <td>0.107143</td>\n",
       "    </tr>\n",
       "    <tr>\n",
       "      <th>vasc</th>\n",
       "      <td>0.026667</td>\n",
       "      <td>0.002924</td>\n",
       "      <td>0.000000</td>\n",
       "      <td>0.00</td>\n",
       "      <td>0.015152</td>\n",
       "      <td>0.012909</td>\n",
       "      <td>0.035714</td>\n",
       "    </tr>\n",
       "  </tbody>\n",
       "</table>\n",
       "</div>"
      ],
      "text/plain": [
       "          akiec       bcc       bkl    df       mel        nv      vasc\n",
       "akiec  0.120000  0.102339  0.086957  0.50  0.030303  0.016211  0.214286\n",
       "bcc    0.413333  0.122807  0.217391  0.25  0.166667  0.024917  0.250000\n",
       "bkl    0.066667  0.339181  0.291925  0.00  0.242424  0.072050  0.178571\n",
       "df     0.080000  0.026316  0.049689  0.00  0.030303  0.006605  0.107143\n",
       "mel    0.026667  0.099415  0.099379  0.00  0.121212  0.120084  0.107143\n",
       "nv     0.266667  0.307018  0.254658  0.25  0.393939  0.747223  0.107143\n",
       "vasc   0.026667  0.002924  0.000000  0.00  0.015152  0.012909  0.035714"
      ]
     },
     "execution_count": 15,
     "metadata": {},
     "output_type": "execute_result"
    }
   ],
   "source": [
    "df = pd.DataFrame(tf.math.confusion_matrix(labels=labels, predictions=predictions).numpy(),\n",
    "             columns = label_encoding,\n",
    "             index = label_encoding,)\n",
    "df / df.sum()"
   ]
  },
  {
   "cell_type": "code",
   "execution_count": 16,
   "metadata": {},
   "outputs": [
    {
     "data": {
      "text/plain": [
       "array([[   9,   35,   14,    2,    2,   54,    6],\n",
       "       [  31,   42,   35,    1,   11,   83,    7],\n",
       "       [   5,  116,   47,    0,   16,  240,    5],\n",
       "       [   6,    9,    8,    0,    2,   22,    3],\n",
       "       [   2,   34,   16,    0,    8,  400,    3],\n",
       "       [  20,  105,   41,    1,   26, 2489,    3],\n",
       "       [   2,    1,    0,    0,    1,   43,    1]])"
      ]
     },
     "execution_count": 16,
     "metadata": {},
     "output_type": "execute_result"
    }
   ],
   "source": [
    "predictions = np.array([])\n",
    "labels =  np.array([])\n",
    "for x, y in ds_train:\n",
    "  predictions = np.concatenate([predictions, model.predict_classes(x)])\n",
    "  labels = np.concatenate([labels, np.argmax(y.numpy(), axis=-1)])\n",
    "\n",
    "tf.math.confusion_matrix(labels=labels, predictions=predictions).numpy()"
   ]
  },
  {
   "cell_type": "code",
   "execution_count": 17,
   "metadata": {},
   "outputs": [
    {
     "data": {
      "text/plain": [
       "<AxesSubplot:>"
      ]
     },
     "execution_count": 17,
     "metadata": {},
     "output_type": "execute_result"
    },
    {
     "data": {
      "image/png": "[encoded data removed]",
      "text/plain": [
       "<Figure size 432x288 with 2 Axes>"
      ]
     },
     "metadata": {
      "needs_background": "light"
     },
     "output_type": "display_data"
    }
   ],
   "source": [
    "df = pd.DataFrame(confusion_matrix(y_true=labels, y_pred=predictions, normalize = 'true'),\n",
    "             columns = label_encoding,\n",
    "             index = label_encoding,)\n",
    "sns.heatmap(df, annot = True)"
   ]
  },
  {
   "cell_type": "code",
   "execution_count": 18,
   "metadata": {},
   "outputs": [
    {
     "name": "stdout",
     "output_type": "stream",
     "text": [
      "Model: \"sequential_2\"\n",
      "_________________________________________________________________\n",
      "Layer (type)                 Output Shape              Param #   \n",
      "=================================================================\n",
      "batch_normalization_5 (Batch (None, 600, 450, 3)       21        \n",
      "_________________________________________________________________\n",
      "conv2d_4 (Conv2D)            (None, 600, 450, 32)      2432      \n",
      "_________________________________________________________________\n",
      "max_pooling2d_4 (MaxPooling2 (None, 300, 225, 32)      0         \n",
      "_________________________________________________________________\n",
      "batch_normalization_6 (Batch (None, 300, 225, 32)      224       \n",
      "_________________________________________________________________\n",
      "conv2d_5 (Conv2D)            (None, 300, 225, 32)      25632     \n",
      "_________________________________________________________________\n",
      "max_pooling2d_5 (MaxPooling2 (None, 150, 112, 32)      0         \n",
      "_________________________________________________________________\n",
      "batch_normalization_7 (Batch (None, 150, 112, 32)      224       \n",
      "_________________________________________________________________\n",
      "conv2d_6 (Conv2D)            (None, 150, 112, 16)      12816     \n",
      "_________________________________________________________________\n",
      "max_pooling2d_6 (MaxPooling2 (None, 75, 56, 16)        0         \n",
      "_________________________________________________________________\n",
      "batch_normalization_8 (Batch (None, 75, 56, 16)        112       \n",
      "_________________________________________________________________\n",
      "conv2d_7 (Conv2D)            (None, 75, 56, 8)         1160      \n",
      "_________________________________________________________________\n",
      "max_pooling2d_7 (MaxPooling2 (None, 37, 28, 8)         0         \n",
      "_________________________________________________________________\n",
      "batch_normalization_9 (Batch (None, 37, 28, 8)         56        \n",
      "_________________________________________________________________\n",
      "flatten_1 (Flatten)          (None, 8288)              0         \n",
      "_________________________________________________________________\n",
      "dense_2 (Dense)              (None, 32)                265248    \n",
      "_________________________________________________________________\n",
      "dense_3 (Dense)              (None, 7)                 231       \n",
      "=================================================================\n",
      "Total params: 308,156\n",
      "Trainable params: 307,701\n",
      "Non-trainable params: 455\n",
      "_________________________________________________________________\n"
     ]
    }
   ],
   "source": [
    "model2 = keras.Sequential([\n",
    "    layers.InputLayer(input_shape=[600, 450, 3]),\n",
    "    \n",
    "    # Block One\n",
    "    layers.BatchNormalization(renorm=True),\n",
    "    layers.Conv2D(filters=32, kernel_size=5, activation='relu', padding='same'),\n",
    "    layers.MaxPool2D(),\n",
    "\n",
    "    # Block Two\n",
    "    layers.BatchNormalization(renorm=True),\n",
    "    layers.Conv2D(filters=32, kernel_size=5, activation='relu', padding='same'),\n",
    "    layers.MaxPool2D(),\n",
    "\n",
    "    # Block Three\n",
    "    layers.BatchNormalization(renorm=True),\n",
    "    layers.Conv2D(filters=16, kernel_size=5, activation='relu', padding='same'),\n",
    "    layers.MaxPool2D(),\n",
    "    \n",
    "    # Block four\n",
    "    layers.BatchNormalization(renorm=True),\n",
    "    layers.Conv2D(filters=8, kernel_size=3, activation='relu', padding='same'),\n",
    "    layers.MaxPool2D(),\n",
    "\n",
    "    # Head\n",
    "    layers.BatchNormalization(renorm=True),\n",
    "    layers.Flatten(),\n",
    "    layers.Dense(32, activation='relu'),\n",
    "    layers.Dense(7, activation='sigmoid'),\n",
    "])\n",
    "\n",
    "optimizer = tf.keras.optimizers.Adam(epsilon=0.01)\n",
    "model2.compile(\n",
    "    optimizer=optimizer,\n",
    "    loss='categorical_crossentropy',\n",
    "    metrics=['categorical_accuracy'],\n",
    ")\n",
    "\n",
    "model2.summary()"
   ]
  },
  {
   "cell_type": "code",
   "execution_count": 19,
   "metadata": {},
   "outputs": [],
   "source": [
    "class_weights = {\n",
    "    0 : 1,\n",
    "    1 : 1,\n",
    "    2 : 1,\n",
    "    3 : 1,\n",
    "    4 : 5,\n",
    "    5 : 1,\n",
    "    6 : 1,\n",
    "}"
   ]
  },
  {
   "cell_type": "code",
   "execution_count": 20,
   "metadata": {},
   "outputs": [
    {
     "name": "stdout",
     "output_type": "stream",
     "text": [
      "126/126 [==============================] - 1145s 9s/step - loss: 2.1664 - categorical_accuracy: 0.5465 - val_loss: 1.3932 - val_categorical_accuracy: 0.2997\n"
     ]
    }
   ],
   "source": [
    "history = model2.fit(\n",
    "    ds_train,\n",
    "    validation_data=ds_valid,\n",
    "    epochs=1,\n",
    "    use_multiprocessing=True,\n",
    "    class_weight = class_weights\n",
    ")"
   ]
  },
  {
   "cell_type": "code",
   "execution_count": 21,
   "metadata": {},
   "outputs": [
    {
     "data": {
      "text/plain": [
       "array([[   5,    8,    1,    0,   11,   94,    3],\n",
       "       [   3,   16,    6,    0,   29,  145,   11],\n",
       "       [   4,    6,    2,    0,  217,  189,   11],\n",
       "       [   1,    8,    1,    0,    8,   30,    2],\n",
       "       [   1,    0,    0,    0,  315,  147,    0],\n",
       "       [   1,    8,    3,    0, 1751,  916,    6],\n",
       "       [   1,    0,    0,    0,    6,   38,    3]], dtype=int64)"
      ]
     },
     "execution_count": 21,
     "metadata": {},
     "output_type": "execute_result"
    }
   ],
   "source": [
    "predictions = np.array([])\n",
    "labels =  np.array([])\n",
    "for x, y in ds_train:\n",
    "  predictions = np.concatenate([predictions, model2.predict_classes(x)])\n",
    "  labels = np.concatenate([labels, np.argmax(y.numpy(), axis=-1)])\n",
    "\n",
    "confusion_matrix(y_true=labels, y_pred=predictions)"
   ]
  },
  {
   "cell_type": "code",
   "execution_count": 22,
   "metadata": {},
   "outputs": [
    {
     "data": {
      "text/plain": [
       "<AxesSubplot:>"
      ]
     },
     "execution_count": 22,
     "metadata": {},
     "output_type": "execute_result"
    },
    {
     "data": {
      "image/png": "[encoded data removed]",
      "text/plain": [
       "<Figure size 432x288 with 2 Axes>"
      ]
     },
     "metadata": {
      "needs_background": "light"
     },
     "output_type": "display_data"
    }
   ],
   "source": [
    "df = pd.DataFrame(confusion_matrix(y_true=labels, y_pred=predictions, normalize = 'true'),\n",
    "             columns = label_encoding,\n",
    "             index = label_encoding,)\n",
    "sns.heatmap(df, annot = True)"
   ]
  },
  {
   "cell_type": "markdown",
   "metadata": {},
   "source": [
    "# binary classification"
   ]
  },
  {
   "cell_type": "code",
   "execution_count": 84,
   "metadata": {},
   "outputs": [
    {
     "name": "stdout",
     "output_type": "stream",
     "text": [
      "Found 5008 files belonging to 2 classes.\n",
      "Using 4007 files for training.\n",
      "Found 5008 files belonging to 2 classes.\n",
      "Using 1001 files for validation.\n"
     ]
    }
   ],
   "source": [
    "# Load training and validation sets\n",
    "ds_train_ = image_dataset_from_directory(\n",
    "    'data/binary_class',\n",
    "    labels='inferred',\n",
    "    label_mode='binary',\n",
    "    image_size=[600, 450],\n",
    "    interpolation='nearest',\n",
    "    batch_size=32,\n",
    "    shuffle=True,\n",
    "    color_mode = 'rgb',\n",
    "    validation_split = 0.2,\n",
    "    subset = 'training',\n",
    "    seed = 1\n",
    ")\n",
    "ds_valid_ = image_dataset_from_directory(\n",
    "    'data/binary_class',\n",
    "    labels='inferred',\n",
    "    label_mode='binary',\n",
    "    image_size=[600, 450],\n",
    "    interpolation='nearest',\n",
    "    batch_size=32,\n",
    "    shuffle=True,\n",
    "    color_mode = 'rgb',\n",
    "    validation_split = 0.2,\n",
    "    subset = 'validation',\n",
    "    seed = 1\n",
    ")\n",
    "\n",
    "# Data Pipeline\n",
    "def convert_to_float(image, label):\n",
    "    image = tf.image.convert_image_dtype(image, dtype=tf.float32)\n",
    "    return image, label\n",
    "\n",
    "AUTOTUNE = tf.data.experimental.AUTOTUNE\n",
    "ds_train = (\n",
    "    ds_train_\n",
    "    .map(convert_to_float)\n",
    "    .cache()\n",
    "    .prefetch(buffer_size=AUTOTUNE)\n",
    ")\n",
    "ds_valid = (\n",
    "    ds_valid_\n",
    "    .map(convert_to_float)\n",
    "    .cache()\n",
    "    .prefetch(buffer_size=AUTOTUNE)\n",
    ")"
   ]
  },
  {
   "cell_type": "code",
   "execution_count": 85,
   "metadata": {},
   "outputs": [
    {
     "name": "stdout",
     "output_type": "stream",
     "text": [
      "Model: \"sequential_7\"\n",
      "_________________________________________________________________\n",
      "Layer (type)                 Output Shape              Param #   \n",
      "=================================================================\n",
      "batch_normalization_25 (Batc (None, 600, 450, 3)       21        \n",
      "_________________________________________________________________\n",
      "conv2d_20 (Conv2D)           (None, 600, 450, 32)      2432      \n",
      "_________________________________________________________________\n",
      "max_pooling2d_20 (MaxPooling (None, 300, 225, 32)      0         \n",
      "_________________________________________________________________\n",
      "batch_normalization_26 (Batc (None, 300, 225, 32)      224       \n",
      "_________________________________________________________________\n",
      "conv2d_21 (Conv2D)           (None, 300, 225, 32)      25632     \n",
      "_________________________________________________________________\n",
      "max_pooling2d_21 (MaxPooling (None, 150, 112, 32)      0         \n",
      "_________________________________________________________________\n",
      "batch_normalization_27 (Batc (None, 150, 112, 32)      224       \n",
      "_________________________________________________________________\n",
      "conv2d_22 (Conv2D)           (None, 150, 112, 16)      12816     \n",
      "_________________________________________________________________\n",
      "max_pooling2d_22 (MaxPooling (None, 75, 56, 16)        0         \n",
      "_________________________________________________________________\n",
      "batch_normalization_28 (Batc (None, 75, 56, 16)        112       \n",
      "_________________________________________________________________\n",
      "conv2d_23 (Conv2D)           (None, 75, 56, 8)         1160      \n",
      "_________________________________________________________________\n",
      "max_pooling2d_23 (MaxPooling (None, 37, 28, 8)         0         \n",
      "_________________________________________________________________\n",
      "batch_normalization_29 (Batc (None, 37, 28, 8)         56        \n",
      "_________________________________________________________________\n",
      "flatten_5 (Flatten)          (None, 8288)              0         \n",
      "_________________________________________________________________\n",
      "dense_10 (Dense)             (None, 32)                265248    \n",
      "_________________________________________________________________\n",
      "dense_11 (Dense)             (None, 1)                 33        \n",
      "=================================================================\n",
      "Total params: 307,958\n",
      "Trainable params: 307,503\n",
      "Non-trainable params: 455\n",
      "_________________________________________________________________\n"
     ]
    }
   ],
   "source": [
    "model3 = keras.Sequential([\n",
    "    layers.InputLayer(input_shape=[600, 450, 3]),\n",
    "    \n",
    "    # Block One\n",
    "    layers.BatchNormalization(renorm=True),\n",
    "    layers.Conv2D(filters=32, kernel_size=5, activation='relu', padding='same'),\n",
    "    layers.MaxPool2D(),\n",
    "\n",
    "    # Block Two\n",
    "    layers.BatchNormalization(renorm=True),\n",
    "    layers.Conv2D(filters=32, kernel_size=5, activation='relu', padding='same'),\n",
    "    layers.MaxPool2D(),\n",
    "\n",
    "    # Block Three\n",
    "    layers.BatchNormalization(renorm=True),\n",
    "    layers.Conv2D(filters=16, kernel_size=5, activation='relu', padding='same'),\n",
    "    layers.MaxPool2D(),\n",
    "    \n",
    "    # Block four\n",
    "    layers.BatchNormalization(renorm=True),\n",
    "    layers.Conv2D(filters=8, kernel_size=3, activation='relu', padding='same'),\n",
    "    layers.MaxPool2D(),\n",
    "\n",
    "    # Head\n",
    "    layers.BatchNormalization(renorm=True),\n",
    "    layers.Flatten(),\n",
    "    layers.Dense(32, activation='relu'),\n",
    "    \n",
    "    # output\n",
    "    layers.Dense(1, activation='sigmoid'),\n",
    "])\n",
    "\n",
    "optimizer = tf.keras.optimizers.Adam(epsilon=0.01)\n",
    "model3.compile(\n",
    "    optimizer=optimizer,\n",
    "    loss='binary_crossentropy',\n",
    "    metrics=['accuracy'],\n",
    ")\n",
    "\n",
    "model3.summary()"
   ]
  },
  {
   "cell_type": "code",
   "execution_count": 86,
   "metadata": {},
   "outputs": [],
   "source": [
    "class_weights = {\n",
    "    0 : 1,\n",
    "    1 : 7\n",
    "}"
   ]
  },
  {
   "cell_type": "code",
   "execution_count": 87,
   "metadata": {},
   "outputs": [
    {
     "name": "stdout",
     "output_type": "stream",
     "text": [
      "126/126 [==============================] - 1075s 9s/step - loss: 1.0958 - accuracy: 0.6731 - val_loss: 0.4118 - val_accuracy: 0.7702\n"
     ]
    }
   ],
   "source": [
    "history = model3.fit(\n",
    "    ds_train,\n",
    "    validation_data=ds_valid,\n",
    "    epochs=1,\n",
    "    use_multiprocessing=True,\n",
    "    class_weight = class_weights\n",
    ")"
   ]
  },
  {
   "cell_type": "code",
   "execution_count": 88,
   "metadata": {},
   "outputs": [
    {
     "data": {
      "text/plain": [
       "array([[2877,  689],\n",
       "       [ 236,  205]], dtype=int64)"
      ]
     },
     "execution_count": 88,
     "metadata": {},
     "output_type": "execute_result"
    }
   ],
   "source": [
    "predictions = []\n",
    "labels =  []\n",
    "for x, y in ds_train:\n",
    "    predictions = predictions + model3.predict_classes(x).tolist()\n",
    "    labels = labels + y.numpy().tolist()\n",
    "\n",
    "confusion_matrix(y_true=labels, y_pred=predictions)"
   ]
  },
  {
   "cell_type": "code",
   "execution_count": 89,
   "metadata": {},
   "outputs": [
    {
     "data": {
      "text/plain": [
       "<AxesSubplot:>"
      ]
     },
     "execution_count": 89,
     "metadata": {},
     "output_type": "execute_result"
    },
    {
     "data": {
      "image/png": "[encoded data removed]",
      "text/plain": [
       "<Figure size 432x288 with 2 Axes>"
      ]
     },
     "metadata": {
      "needs_background": "light"
     },
     "output_type": "display_data"
    }
   ],
   "source": [
    "df = pd.DataFrame(confusion_matrix(y_true=labels, y_pred=predictions, normalize = 'true'),\n",
    "             columns = ['Predicted No', 'Predicted Yes'],\n",
    "             index = ['Actual No', 'Actual Yes'],)\n",
    "sns.heatmap(df, annot = True)"
   ]
  },
  {
   "cell_type": "code",
   "execution_count": 90,
   "metadata": {},
   "outputs": [
    {
     "data": {
      "text/plain": [
       "<AxesSubplot:>"
      ]
     },
     "execution_count": 90,
     "metadata": {},
     "output_type": "execute_result"
    },
    {
     "data": {
      "image/png": "[encoded data removed]",
      "text/plain": [
       "<Figure size 432x288 with 2 Axes>"
      ]
     },
     "metadata": {
      "needs_background": "light"
     },
     "output_type": "display_data"
    }
   ],
   "source": [
    "predictions = []\n",
    "labels =  []\n",
    "for x, y in ds_valid:\n",
    "    predictions = predictions + model3.predict_classes(x).tolist()\n",
    "    labels = labels + y.numpy().tolist()\n",
    "\n",
    "confusion_matrix(y_true=labels, y_pred=predictions)\n",
    "df = pd.DataFrame(confusion_matrix(y_true=labels, y_pred=predictions, normalize = 'true'),\n",
    "             columns = ['Predicted No', 'Predicted Yes'],\n",
    "             index = ['Actual No', 'Actual Yes'],)\n",
    "sns.heatmap(df, annot = True)"
   ]
  },
  {
   "cell_type": "code",
   "execution_count": 91,
   "metadata": {},
   "outputs": [],
   "source": [
    "predictions = []\n",
    "labels =  []\n",
    "for x, y in ds_valid:\n",
    "    predictions = predictions + model3.predict_proba(x).tolist()\n",
    "    labels = labels + y.numpy().tolist()"
   ]
  },
  {
   "cell_type": "code",
   "execution_count": 92,
   "metadata": {},
   "outputs": [],
   "source": [
    "predictions = [x[0] for x in predictions]\n",
    "labels = [x[0] for x in labels]"
   ]
  },
  {
   "cell_type": "code",
   "execution_count": 93,
   "metadata": {},
   "outputs": [],
   "source": [
    "temp = pd.DataFrame({\n",
    "    'prob' : predictions,\n",
    "    'label':labels\n",
    "})"
   ]
  },
  {
   "cell_type": "code",
   "execution_count": 95,
   "metadata": {},
   "outputs": [
    {
     "data": {
      "image/png": "[encoded data removed]",
      "text/plain": [
       "<Figure size 432x288 with 1 Axes>"
      ]
     },
     "metadata": {
      "needs_background": "light"
     },
     "output_type": "display_data"
    }
   ],
   "source": [
    "sns.histplot(data = temp, x = 'prob', hue = 'label')\n",
    "plt.show()"
   ]
  },
  {
   "cell_type": "code",
   "execution_count": 101,
   "metadata": {},
   "outputs": [
    {
     "data": {
      "text/plain": [
       "<AxesSubplot:>"
      ]
     },
     "execution_count": 101,
     "metadata": {},
     "output_type": "execute_result"
    },
    {
     "data": {
      "image/png": "[encoded data removed]",
      "text/plain": [
       "<Figure size 432x288 with 2 Axes>"
      ]
     },
     "metadata": {
      "needs_background": "light"
     },
     "output_type": "display_data"
    }
   ],
   "source": [
    "predicted_class = [1 if p > 0.3 else 0 for p in predictions]\n",
    "confusion_matrix(y_true=labels, y_pred=predicted_class)\n",
    "df = pd.DataFrame(confusion_matrix(y_true=labels, y_pred=predicted_class, normalize = 'true'),\n",
    "             columns = ['Predicted No', 'Predicted Yes'],\n",
    "             index = ['Actual No', 'Actual Yes'],)\n",
    "sns.heatmap(df, annot = True)"
   ]
  },
  {
   "cell_type": "markdown",
   "metadata": {},
   "source": [
    "# NN visualisation to better understand NN built and how we can imrpove it"
   ]
  },
  {
   "cell_type": "code",
   "execution_count": 23,
   "metadata": {},
   "outputs": [
    {
     "data": {
      "text/plain": [
       "['batch_normalization',\n",
       " 'conv2d',\n",
       " 'max_pooling2d',\n",
       " 'batch_normalization_1',\n",
       " 'conv2d_1',\n",
       " 'max_pooling2d_1',\n",
       " 'batch_normalization_2',\n",
       " 'conv2d_2',\n",
       " 'max_pooling2d_2',\n",
       " 'batch_normalization_3',\n",
       " 'conv2d_3',\n",
       " 'max_pooling2d_3',\n",
       " 'batch_normalization_4',\n",
       " 'flatten',\n",
       " 'dense',\n",
       " 'dense_1']"
      ]
     },
     "execution_count": 23,
     "metadata": {},
     "output_type": "execute_result"
    }
   ],
   "source": [
    "layer_names = [layer.name for layer in model.layers]\n",
    "layer_names"
   ]
  },
  {
   "cell_type": "code",
   "execution_count": 24,
   "metadata": {},
   "outputs": [
    {
     "data": {
      "text/plain": [
       "[<tensorflow.python.keras.layers.normalization_v2.BatchNormalization at 0x1f1932ab3a0>,\n",
       " <tensorflow.python.keras.layers.convolutional.Conv2D at 0x1f1932ab490>,\n",
       " <tensorflow.python.keras.layers.pooling.MaxPooling2D at 0x1f1932abdc0>,\n",
       " <tensorflow.python.keras.layers.normalization_v2.BatchNormalization at 0x1f1932abfa0>,\n",
       " <tensorflow.python.keras.layers.convolutional.Conv2D at 0x1f192dfe5b0>,\n",
       " <tensorflow.python.keras.layers.pooling.MaxPooling2D at 0x1f192dfea60>,\n",
       " <tensorflow.python.keras.layers.normalization_v2.BatchNormalization at 0x1f192dfed30>,\n",
       " <tensorflow.python.keras.layers.convolutional.Conv2D at 0x1f192e09250>,\n",
       " <tensorflow.python.keras.layers.pooling.MaxPooling2D at 0x1f192e09700>,\n",
       " <tensorflow.python.keras.layers.normalization_v2.BatchNormalization at 0x1f192e099d0>,\n",
       " <tensorflow.python.keras.layers.convolutional.Conv2D at 0x1f192e09eb0>,\n",
       " <tensorflow.python.keras.layers.pooling.MaxPooling2D at 0x1f192e09a00>,\n",
       " <tensorflow.python.keras.layers.normalization_v2.BatchNormalization at 0x1f192e0e670>,\n",
       " <tensorflow.python.keras.layers.core.Flatten at 0x1f192e0eb20>,\n",
       " <tensorflow.python.keras.layers.core.Dense at 0x1f192e0ed30>,\n",
       " <tensorflow.python.keras.layers.core.Dense at 0x1f192e0ef40>]"
      ]
     },
     "execution_count": 24,
     "metadata": {},
     "output_type": "execute_result"
    }
   ],
   "source": [
    "model.layers"
   ]
  },
  {
   "cell_type": "code",
   "execution_count": 25,
   "metadata": {},
   "outputs": [
    {
     "ename": "NameError",
     "evalue": "name 'layer_outputs' is not defined",
     "output_type": "error",
     "traceback": [
      "\u001b[1;31m---------------------------------------------------------------------------\u001b[0m",
      "\u001b[1;31mNameError\u001b[0m                                 Traceback (most recent call last)",
      "\u001b[1;32m~\\AppData\\Local\\Temp/ipykernel_10268/2365204107.py\u001b[0m in \u001b[0;36m<module>\u001b[1;34m\u001b[0m\n\u001b[1;32m----> 1\u001b[1;33m \u001b[0mfeature_map_model\u001b[0m \u001b[1;33m=\u001b[0m \u001b[0mtf\u001b[0m\u001b[1;33m.\u001b[0m\u001b[0mkeras\u001b[0m\u001b[1;33m.\u001b[0m\u001b[0mModel\u001b[0m\u001b[1;33m(\u001b[0m\u001b[0mmodel\u001b[0m\u001b[1;33m.\u001b[0m\u001b[0minputs\u001b[0m\u001b[1;33m,\u001b[0m \u001b[0mlayer_outputs\u001b[0m\u001b[1;33m)\u001b[0m\u001b[1;33m\u001b[0m\u001b[1;33m\u001b[0m\u001b[0m\n\u001b[0m",
      "\u001b[1;31mNameError\u001b[0m: name 'layer_outputs' is not defined"
     ]
    }
   ],
   "source": [
    "feature_map_model = tf.keras.Model(model.inputs, layer_outputs)"
   ]
  },
  {
   "cell_type": "code",
   "execution_count": null,
   "metadata": {},
   "outputs": [],
   "source": [
    "image_path= r\"C:\\Users\\singl\\studies\\AML\\Project\\HAM10000Classification\\data\\all_images\\ISIC_0024306.jpg\" \n",
    "img = tf.keras.preprocessing.image.load_img(image_path, target_size=(600, 450, 3))  \n",
    "input = tf.keras.preprocessing.image.img_to_array(img)                        \n",
    "# input = input.reshape((1,) + input.shape)                   \n",
    "# input /= 255.0"
   ]
  },
  {
   "cell_type": "code",
   "execution_count": null,
   "metadata": {},
   "outputs": [],
   "source": [
    "input.shape"
   ]
  },
  {
   "cell_type": "code",
   "execution_count": 26,
   "metadata": {},
   "outputs": [
    {
     "ename": "NameError",
     "evalue": "name 'feature_map_model' is not defined",
     "output_type": "error",
     "traceback": [
      "\u001b[1;31m---------------------------------------------------------------------------\u001b[0m",
      "\u001b[1;31mNameError\u001b[0m                                 Traceback (most recent call last)",
      "\u001b[1;32m~\\AppData\\Local\\Temp/ipykernel_10268/2650977511.py\u001b[0m in \u001b[0;36m<module>\u001b[1;34m\u001b[0m\n\u001b[1;32m----> 1\u001b[1;33m \u001b[0mfeature_maps\u001b[0m \u001b[1;33m=\u001b[0m \u001b[0mfeature_map_model\u001b[0m\u001b[1;33m.\u001b[0m\u001b[0mpredict\u001b[0m\u001b[1;33m(\u001b[0m\u001b[0mds_valid\u001b[0m\u001b[1;33m)\u001b[0m\u001b[1;33m\u001b[0m\u001b[1;33m\u001b[0m\u001b[0m\n\u001b[0m",
      "\u001b[1;31mNameError\u001b[0m: name 'feature_map_model' is not defined"
     ]
    }
   ],
   "source": [
    "feature_maps = feature_map_model.predict(ds_valid)"
   ]
  },
  {
   "cell_type": "code",
   "execution_count": 230,
   "metadata": {},
   "outputs": [
    {
     "ename": "NameError",
     "evalue": "name 'filters' is not defined",
     "output_type": "error",
     "traceback": [
      "\u001b[1;31m---------------------------------------------------------------------------\u001b[0m",
      "\u001b[1;31mNameError\u001b[0m                                 Traceback (most recent call last)",
      "\u001b[1;32m~\\AppData\\Local\\Temp/ipykernel_13356/2457848427.py\u001b[0m in \u001b[0;36m<module>\u001b[1;34m\u001b[0m\n\u001b[0;32m      2\u001b[0m     \u001b[1;32mif\u001b[0m \u001b[1;34m'conv'\u001b[0m \u001b[1;32min\u001b[0m \u001b[0mlayer\u001b[0m\u001b[1;33m.\u001b[0m\u001b[0mname\u001b[0m\u001b[1;33m:\u001b[0m\u001b[1;33m\u001b[0m\u001b[1;33m\u001b[0m\u001b[0m\n\u001b[0;32m      3\u001b[0m         \u001b[0mweights\u001b[0m\u001b[1;33m,\u001b[0m \u001b[0mbias\u001b[0m\u001b[1;33m=\u001b[0m \u001b[0mlayer\u001b[0m\u001b[1;33m.\u001b[0m\u001b[0mget_weights\u001b[0m\u001b[1;33m(\u001b[0m\u001b[1;33m)\u001b[0m\u001b[1;33m\u001b[0m\u001b[1;33m\u001b[0m\u001b[0m\n\u001b[1;32m----> 4\u001b[1;33m         \u001b[0mprint\u001b[0m\u001b[1;33m(\u001b[0m\u001b[0mlayer\u001b[0m\u001b[1;33m.\u001b[0m\u001b[0mname\u001b[0m\u001b[1;33m,\u001b[0m \u001b[0mfilters\u001b[0m\u001b[1;33m.\u001b[0m\u001b[0mshape\u001b[0m\u001b[1;33m)\u001b[0m\u001b[1;33m\u001b[0m\u001b[1;33m\u001b[0m\u001b[0m\n\u001b[0m\u001b[0;32m      5\u001b[0m \u001b[1;33m\u001b[0m\u001b[0m\n\u001b[0;32m      6\u001b[0m         \u001b[1;31m#normalize filter values between  0 and 1 for visualization\u001b[0m\u001b[1;33m\u001b[0m\u001b[1;33m\u001b[0m\u001b[1;33m\u001b[0m\u001b[0m\n",
      "\u001b[1;31mNameError\u001b[0m: name 'filters' is not defined"
     ]
    }
   ],
   "source": [
    "for layer in model.layers:\n",
    "    if 'conv' in layer.name:\n",
    "        weights, bias= layer.get_weights()\n",
    "        print(layer.name, filters.shape)\n",
    "        \n",
    "        #normalize filter values between  0 and 1 for visualization\n",
    "        f_min, f_max = weights.min(), weights.max()\n",
    "        filters = (weights - f_min) / (f_max - f_min)  \n",
    "        print(filters.shape[3])\n",
    "        filter_cnt=1\n",
    "        \n",
    "        #plotting all the filters\n",
    "        for i in range(filters.shape[3]):\n",
    "            #get the filters\n",
    "            filt=filters[:,:,:, i]\n",
    "            #plotting each of the channel, color image RGB channels\n",
    "            for j in range(filters.shape[0]):\n",
    "                ax= plt.subplot(filters.shape[3], filters.shape[0], filter_cnt  )\n",
    "                ax.set_xticks([])\n",
    "                ax.set_yticks([])\n",
    "                plt.imshow(filt[:,:, j])\n",
    "                filter_cnt+=1\n",
    "        plt.show()"
   ]
  },
  {
   "cell_type": "code",
   "execution_count": 241,
   "metadata": {},
   "outputs": [],
   "source": [
    "import tensorflow as tf\n",
    "from matplotlib import pyplot as plt\n",
    "\n",
    "#Visualizes convolutional layer activations\n",
    "def visualize_activations(model, validation_iterator):\n",
    "\n",
    "  #A keras model that will output our previous model's activations for each convolutional layer:\n",
    "  activation_extractor = tf.keras.Model(inputs=model.inputs, \n",
    "                                        outputs=[layer.output for layer in model.layers if \"conv2d\" in layer.name])\n",
    "\n",
    "  #Take matplotlib frame and remove axes.\n",
    "  def clean_plot(plot):\n",
    "    plot.axes.get_xaxis().set_visible(False)\n",
    "    plot.axes.get_yaxis().set_visible(False)\n",
    "\n",
    "  #Dict mapping from class numbers to string labels:\n",
    "  class_names = {0:\"Regular\",1:\"Ringed\",2:\"Merger\",3:\"Other\"}\n",
    "\n",
    "  #Loads a sample batch of data\n",
    "  sample_batch_input,sample_labels = validation_iterator.take(1)\n",
    " \n",
    "  #Grabs the first five images\n",
    "  sample_batch_input = sample_batch_input[:5]\n",
    "  sample_labels = sample_labels[:5]\n",
    "\n",
    "  #Makes predictions using model.predict(x)\n",
    "  sample_predictions = model.predict(sample_batch_input)\n",
    "\n",
    "  #Iterate of images, predictions, and true labels\n",
    "  for i,(image, prediction, label) in enumerate(zip(sample_batch_input, sample_predictions, sample_labels)):\n",
    "\n",
    "    image_name = \"Galaxy_{}\".format(i)\n",
    "\n",
    "    #Gets predicted class with highest probability\n",
    "\n",
    "    predicted_class = tf.argmax(prediction).numpy()\n",
    "\n",
    "    #Gets correct label\n",
    "    actual_class = tf.argmax(label).numpy()\n",
    "\n",
    "    print(image_name)\n",
    "    print(\"\\tModel prediction: {}\".format(prediction))\n",
    "    print(\"\\tTrue label: {} ({})\".format(class_names[actual_class], actual_class))\n",
    "    print(\"\\tCorrect:\", predicted_class == actual_class)\n",
    "\n",
    "    #Saves image file using matplotlib\n",
    "    sample_image = image\n",
    "    clean_plot(plt.imshow(sample_image))\n",
    "\n",
    "    plt.title(image_name+\" Predicted: {}, Actual: {}\".format(class_names[predicted_class], class_names[actual_class]))\n",
    "    plt.savefig('static/images/'+image_name+\".png\")\n",
    "    model_layer_output = activation_extractor(tf.expand_dims(sample_image,0))\n",
    "    \n",
    "    plt.clf()\n",
    "\n",
    "    #Iterates over each layer output\n",
    "    for l_num,output_data in enumerate(model_layer_output):\n",
    "\n",
    "      #Creates a subplot for each filter\n",
    "      fig, axs = plt.subplots(1, output_data.shape[-1])\n",
    "      \n",
    "      #For each filter\n",
    "      for i in range(output_data.shape[-1]):\n",
    "\n",
    "        #Plots the filter's activations\n",
    "        \n",
    "        clean_plot(axs[i].imshow(output_data[0][:, :, i], cmap=\"gray\"))\n",
    "      plt.suptitle(image_name+\" Conv {}\".format(l_num),y=0.6)\n",
    "      plt.savefig('static/images/' + image_name+ \"Conv{}.png\".format(l_num))\n",
    "      plt.clf()"
   ]
  },
  {
   "cell_type": "code",
   "execution_count": 242,
   "metadata": {},
   "outputs": [
    {
     "ename": "ValueError",
     "evalue": "not enough values to unpack (expected 2, got 1)",
     "output_type": "error",
     "traceback": [
      "\u001b[1;31m---------------------------------------------------------------------------\u001b[0m",
      "\u001b[1;31mValueError\u001b[0m                                Traceback (most recent call last)",
      "\u001b[1;32m~\\AppData\\Local\\Temp/ipykernel_13356/4155179964.py\u001b[0m in \u001b[0;36m<module>\u001b[1;34m\u001b[0m\n\u001b[1;32m----> 1\u001b[1;33m \u001b[0mvisualize_activations\u001b[0m\u001b[1;33m(\u001b[0m\u001b[0mmodel\u001b[0m\u001b[1;33m,\u001b[0m\u001b[0mds_train\u001b[0m\u001b[1;33m)\u001b[0m\u001b[1;33m\u001b[0m\u001b[1;33m\u001b[0m\u001b[0m\n\u001b[0m",
      "\u001b[1;32m~\\AppData\\Local\\Temp/ipykernel_13356/3229668668.py\u001b[0m in \u001b[0;36mvisualize_activations\u001b[1;34m(model, validation_iterator)\u001b[0m\n\u001b[0;32m     18\u001b[0m \u001b[1;33m\u001b[0m\u001b[0m\n\u001b[0;32m     19\u001b[0m   \u001b[1;31m#Loads a sample batch of data\u001b[0m\u001b[1;33m\u001b[0m\u001b[1;33m\u001b[0m\u001b[1;33m\u001b[0m\u001b[0m\n\u001b[1;32m---> 20\u001b[1;33m   \u001b[0msample_batch_input\u001b[0m\u001b[1;33m,\u001b[0m\u001b[0msample_labels\u001b[0m \u001b[1;33m=\u001b[0m \u001b[0mvalidation_iterator\u001b[0m\u001b[1;33m.\u001b[0m\u001b[0mtake\u001b[0m\u001b[1;33m(\u001b[0m\u001b[1;36m1\u001b[0m\u001b[1;33m)\u001b[0m\u001b[1;33m\u001b[0m\u001b[1;33m\u001b[0m\u001b[0m\n\u001b[0m\u001b[0;32m     21\u001b[0m \u001b[1;33m\u001b[0m\u001b[0m\n\u001b[0;32m     22\u001b[0m   \u001b[1;31m#Grabs the first five images\u001b[0m\u001b[1;33m\u001b[0m\u001b[1;33m\u001b[0m\u001b[1;33m\u001b[0m\u001b[0m\n",
      "\u001b[1;31mValueError\u001b[0m: not enough values to unpack (expected 2, got 1)"
     ]
    }
   ],
   "source": [
    "visualize_activations(model,ds_train)"
   ]
  },
  {
   "cell_type": "code",
   "execution_count": 237,
   "metadata": {},
   "outputs": [
    {
     "data": {
      "text/plain": [
       "<PrefetchDataset shapes: ((None, 600, 450, 3), (None, 7)), types: (tf.float32, tf.float32)>"
      ]
     },
     "execution_count": 237,
     "metadata": {},
     "output_type": "execute_result"
    }
   ],
   "source": [
    "for images, label in ds_train"
   ]
  }
 ],
 "metadata": {
  "kernelspec": {
   "display_name": "Python 3 (ipykernel)",
   "language": "python",
   "name": "python3"
  },
  "language_info": {
   "codemirror_mode": {
    "name": "ipython",
    "version": 3
   },
   "file_extension": ".py",
   "mimetype": "text/x-python",
   "name": "python",
   "nbconvert_exporter": "python",
   "pygments_lexer": "ipython3",
   "version": "3.8.12"
  },
  "varInspector": {
   "cols": {
    "lenName": 16,
    "lenType": 16,
    "lenVar": 40
   },
   "kernels_config": {
    "python": {
     "delete_cmd_postfix": "",
     "delete_cmd_prefix": "del ",
     "library": "var_list.py",
     "varRefreshCmd": "print(var_dic_list())"
    },
    "r": {
     "delete_cmd_postfix": ") ",
     "delete_cmd_prefix": "rm(",
     "library": "var_list.r",
     "varRefreshCmd": "cat(var_dic_list()) "
    }
   },
   "types_to_exclude": [
    "module",
    "function",
    "builtin_function_or_method",
    "instance",
    "_Feature"
   ],
   "window_display": false
  }
 },
 "nbformat": 4,
 "nbformat_minor": 4
}
