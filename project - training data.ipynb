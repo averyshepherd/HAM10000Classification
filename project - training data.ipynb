{
 "cells": [
  {
   "cell_type": "code",
   "execution_count": 1,
   "metadata": {
    "ExecuteTime": {
     "end_time": "2021-11-18T22:47:07.375517Z",
     "start_time": "2021-11-18T22:47:07.223097Z"
    },
    "execution": {
     "iopub.execute_input": "2021-05-29T08:02:38.710006Z",
     "iopub.status.busy": "2021-05-29T08:02:38.709644Z",
     "iopub.status.idle": "2021-05-29T08:02:52.906946Z",
     "shell.execute_reply": "2021-05-29T08:02:52.905572Z",
     "shell.execute_reply.started": "2021-05-29T08:02:38.709928Z"
    }
   },
   "outputs": [],
   "source": [
    "from tensorflow import keras\n",
    "from tensorflow.keras import layers\n",
    "from tensorflow.keras.layers.experimental import preprocessing\n",
    "\n",
    "import matplotlib.pyplot as plt\n",
    "from matplotlib import gridspec\n",
    "\n",
    "import numpy as np\n",
    "import tensorflow as tf\n",
    "from tensorflow.keras.preprocessing import image_dataset_from_directory\n",
    "from tensorflow.keras.preprocessing.image import ImageDataGenerator\n",
    "\n",
    "import pandas as pd\n",
    "\n",
    "from os import listdir\n",
    "from os.path import isfile, join\n",
    "\n",
    "import shutil\n",
    "\n",
    "import seaborn as sns\n",
    "\n",
    "from sklearn.metrics import confusion_matrix\n",
    "\n",
    "%matplotlib inline"
   ]
  },
  {
   "cell_type": "code",
   "execution_count": 2,
   "metadata": {},
   "outputs": [
    {
     "data": {
      "text/plain": [
       "['akiec', 'bcc', 'bkl', 'df', 'mel', 'nv', 'vasc']"
      ]
     },
     "execution_count": 2,
     "metadata": {},
     "output_type": "execute_result"
    }
   ],
   "source": [
    "df = pd.read_csv('data/HAM10000_metadata.csv')\n",
    "df.head()\n",
    "\n",
    "filtered = df.iloc[list(range(0, len(df), 2)),:].copy().reset_index(drop = True)\n",
    "filtered.head()\n",
    "\n",
    "filtered['dx'].value_counts(normalize = True)\n",
    "\n",
    "label_encoding = sorted(list(filtered['dx'].unique()))\n",
    "label_encoding\n",
    "\n",
    "#############Enablefor mving files #################\n",
    "\n",
    "# image_labels = dict(zip(filtered['image_id'], filtered['dx']))\n",
    "\n",
    "# train_path = 'data/all_images'\n",
    "# onlyfiles = [f for f in listdir(train_path) if isfile(join(train_path, f))]\n",
    "\n",
    "# for i in filtered['image_id']:\n",
    "#     source = train_path + \"/\" + i + '.jpg'\n",
    "#     dest = train_path + \"/\" + image_labels[i] + \"/\" + i + '.jpg'\n",
    "# #     print(source)\n",
    "# #     print(dest)\n",
    "#     shutil.copy(source, dest)"
   ]
  },
  {
   "cell_type": "code",
   "execution_count": 3,
   "metadata": {
    "ExecuteTime": {
     "end_time": "2021-11-18T22:47:07.375517Z",
     "start_time": "2021-11-18T22:47:07.223097Z"
    },
    "execution": {
     "iopub.execute_input": "2021-05-29T08:02:38.710006Z",
     "iopub.status.busy": "2021-05-29T08:02:38.709644Z",
     "iopub.status.idle": "2021-05-29T08:02:52.906946Z",
     "shell.execute_reply": "2021-05-29T08:02:52.905572Z",
     "shell.execute_reply.started": "2021-05-29T08:02:38.709928Z"
    }
   },
   "outputs": [
    {
     "name": "stdout",
     "output_type": "stream",
     "text": [
      "Found 5008 files belonging to 7 classes.\n",
      "Using 4007 files for training.\n",
      "Found 5008 files belonging to 7 classes.\n",
      "Using 1001 files for validation.\n"
     ]
    }
   ],
   "source": [
    "# Load training and validation sets\n",
    "\n",
    "# prefetches images\n",
    "# keep the images for training ready. \n",
    "# when one batch is being used for training\n",
    "\n",
    "ds_train_ = image_dataset_from_directory(\n",
    "    'data/all_images',\n",
    "    labels='inferred',\n",
    "    label_mode='categorical',\n",
    "    image_size=[600, 450],\n",
    "    interpolation='nearest',\n",
    "    batch_size=32,\n",
    "    shuffle=True,\n",
    "    color_mode = 'rgb',\n",
    "    validation_split = 0.2,\n",
    "    subset = 'training',\n",
    "    seed = 2\n",
    ")\n",
    "ds_valid_ = image_dataset_from_directory(\n",
    "    'data/all_images',\n",
    "    labels='inferred',\n",
    "    label_mode='categorical',\n",
    "    image_size=[600, 450],\n",
    "    interpolation='nearest',\n",
    "    batch_size=32,\n",
    "    shuffle=True,\n",
    "    color_mode = 'rgb',\n",
    "    validation_split = 0.2,\n",
    "    subset = 'validation',\n",
    "    seed = 2\n",
    ")\n",
    "\n",
    "# Data Pipeline\n",
    "def convert_to_float(image, label):\n",
    "    image = tf.image.convert_image_dtype(image, dtype=tf.float32)\n",
    "    return image, label\n",
    "\n",
    "AUTOTUNE = tf.data.experimental.AUTOTUNE\n",
    "ds_train = (\n",
    "    ds_train_\n",
    "    .map(convert_to_float)\n",
    "    .cache()\n",
    "    .prefetch(buffer_size=AUTOTUNE)\n",
    ")\n",
    "ds_valid = (\n",
    "    ds_valid_\n",
    "    .map(convert_to_float)\n",
    "    .cache()\n",
    "    .prefetch(buffer_size=AUTOTUNE)\n",
    ")"
   ]
  },
  {
   "cell_type": "markdown",
   "metadata": {},
   "source": [
    "# Data Augmentation (To be explored later)"
   ]
  },
  {
   "cell_type": "code",
   "execution_count": 4,
   "metadata": {
    "execution": {
     "iopub.execute_input": "2021-05-29T08:02:52.908721Z",
     "iopub.status.busy": "2021-05-29T08:02:52.908456Z",
     "iopub.status.idle": "2021-05-29T08:02:56.178102Z",
     "shell.execute_reply": "2021-05-29T08:02:56.177185Z",
     "shell.execute_reply.started": "2021-05-29T08:02:52.908696Z"
    },
    "lines_to_next_cell": 0
   },
   "outputs": [],
   "source": [
    "# all of the \"factor\" parameters indicate a percent-change\n",
    "augment = keras.Sequential([\n",
    "    # preprocessing.RandomContrast(factor=0.5),\n",
    "    preprocessing.RandomFlip(mode='horizontal'), # meaning, left-to-right\n",
    "    # preprocessing.RandomFlip(mode='vertical'), # meaning, top-to-bottom\n",
    "    # preprocessing.RandomWidth(factor=0.15), # horizontal stretch\n",
    "    # preprocessing.RandomRotation(factor=0.20),\n",
    "    # preprocessing.RandomTranslation(height_factor=0.1, width_factor=0.1),\n",
    "])"
   ]
  },
  {
   "cell_type": "markdown",
   "metadata": {},
   "source": [
    "# NN"
   ]
  },
  {
   "cell_type": "markdown",
   "metadata": {},
   "source": [
    "## NN creation"
   ]
  },
  {
   "cell_type": "code",
   "execution_count": 5,
   "metadata": {
    "execution": {
     "iopub.execute_input": "2021-05-29T08:10:47.521153Z",
     "iopub.status.busy": "2021-05-29T08:10:47.520841Z",
     "iopub.status.idle": "2021-05-29T08:10:47.708034Z",
     "shell.execute_reply": "2021-05-29T08:10:47.70703Z",
     "shell.execute_reply.started": "2021-05-29T08:10:47.521124Z"
    },
    "lines_to_next_cell": 2
   },
   "outputs": [
    {
     "name": "stdout",
     "output_type": "stream",
     "text": [
      "Model: \"sequential_1\"\n",
      "_________________________________________________________________\n",
      " Layer (type)                Output Shape              Param #   \n",
      "=================================================================\n",
      " batch_normalization (BatchN  (None, 600, 450, 3)      21        \n",
      " ormalization)                                                   \n",
      "                                                                 \n",
      " conv2d (Conv2D)             (None, 596, 446, 32)      2432      \n",
      "                                                                 \n",
      " max_pooling2d (MaxPooling2D  (None, 298, 223, 32)     0         \n",
      " )                                                               \n",
      "                                                                 \n",
      " batch_normalization_1 (Batc  (None, 298, 223, 32)     224       \n",
      " hNormalization)                                                 \n",
      "                                                                 \n",
      " conv2d_1 (Conv2D)           (None, 294, 219, 32)      25632     \n",
      "                                                                 \n",
      " max_pooling2d_1 (MaxPooling  (None, 147, 109, 32)     0         \n",
      " 2D)                                                             \n",
      "                                                                 \n",
      " batch_normalization_2 (Batc  (None, 147, 109, 32)     224       \n",
      " hNormalization)                                                 \n",
      "                                                                 \n",
      " conv2d_2 (Conv2D)           (None, 143, 105, 16)      12816     \n",
      "                                                                 \n",
      " max_pooling2d_2 (MaxPooling  (None, 71, 52, 16)       0         \n",
      " 2D)                                                             \n",
      "                                                                 \n",
      " batch_normalization_3 (Batc  (None, 71, 52, 16)       112       \n",
      " hNormalization)                                                 \n",
      "                                                                 \n",
      " conv2d_3 (Conv2D)           (None, 69, 50, 8)         1160      \n",
      "                                                                 \n",
      " max_pooling2d_3 (MaxPooling  (None, 34, 25, 8)        0         \n",
      " 2D)                                                             \n",
      "                                                                 \n",
      " batch_normalization_4 (Batc  (None, 34, 25, 8)        56        \n",
      " hNormalization)                                                 \n",
      "                                                                 \n",
      " flatten (Flatten)           (None, 6800)              0         \n",
      "                                                                 \n",
      " dense (Dense)               (None, 32)                217632    \n",
      "                                                                 \n",
      " dense_1 (Dense)             (None, 7)                 231       \n",
      "                                                                 \n",
      "=================================================================\n",
      "Total params: 260,540\n",
      "Trainable params: 260,085\n",
      "Non-trainable params: 455\n",
      "_________________________________________________________________\n"
     ]
    }
   ],
   "source": [
    "from tensorflow import keras\n",
    "from tensorflow.keras import layers\n",
    "\n",
    "model = keras.Sequential([\n",
    "    #input image\n",
    "    layers.InputLayer(input_shape=[600, 450, 3]),\n",
    "\n",
    "    # Block Two\n",
    "    layers.BatchNormalization(renorm=True),\n",
    "    layers.Conv2D(filters=32, kernel_size=5, activation=layers.LeakyReLU(alpha=0.01)),\n",
    "    layers.MaxPool2D(),\n",
    "    \n",
    "     # Block Three\n",
    "    layers.BatchNormalization(renorm=True),\n",
    "    layers.Conv2D(filters=32, kernel_size=5, activation=layers.LeakyReLU(alpha=0.01)),\n",
    "    layers.MaxPool2D(),\n",
    "\n",
    "    # Block Three\n",
    "    layers.BatchNormalization(renorm=True),\n",
    "    layers.Conv2D(filters=16, kernel_size=5, activation=layers.LeakyReLU(alpha=0.01)),\n",
    "    layers.MaxPool2D(),\n",
    "    \n",
    "    # Block four\n",
    "    layers.BatchNormalization(renorm=True),\n",
    "    layers.Conv2D(filters=8, kernel_size=3, activation=layers.LeakyReLU(alpha=0.01)),\n",
    "    layers.MaxPool2D(),\n",
    "\n",
    "    # Flattening back to \"1D\"\n",
    "    layers.BatchNormalization(renorm=True),\n",
    "    layers.Flatten(),\n",
    "    layers.Dense(32, activation=layers.LeakyReLU(alpha=0.01)),\n",
    "    \n",
    "    #output\n",
    "    layers.Dense(7, activation='softmax'),\n",
    "])\n",
    "\n",
    "optimizer = tf.keras.optimizers.Adam(epsilon = 0.01)\n",
    "model.compile(\n",
    "    optimizer=optimizer,\n",
    "    loss='categorical_crossentropy',\n",
    "    metrics=['categorical_accuracy'],\n",
    ")\n",
    "\n",
    "model.summary()"
   ]
  },
  {
   "cell_type": "code",
   "execution_count": 6,
   "metadata": {},
   "outputs": [
    {
     "name": "stdout",
     "output_type": "stream",
     "text": [
      "126/126 [==============================] - 1061s 8s/step - loss: 1.2640 - categorical_accuracy: 0.6526 - val_loss: 1.1781 - val_categorical_accuracy: 0.6364\n"
     ]
    }
   ],
   "source": [
    "history = model.fit(\n",
    "    ds_train,\n",
    "    validation_data=ds_valid,\n",
    "    epochs=1,\n",
    "    use_multiprocessing=True,\n",
    ")"
   ]
  },
  {
   "cell_type": "code",
   "execution_count": 7,
   "metadata": {
    "execution": {
     "iopub.execute_input": "2021-05-29T08:10:53.795805Z",
     "iopub.status.busy": "2021-05-29T08:10:53.795434Z",
     "iopub.status.idle": "2021-05-29T08:20:37.694037Z",
     "shell.execute_reply": "2021-05-29T08:20:37.693307Z",
     "shell.execute_reply.started": "2021-05-29T08:10:53.795774Z"
    },
    "lines_to_next_cell": 2
   },
   "outputs": [
    {
     "data": {
      "image/png": "[encoded data removed]",
      "text/plain": [
       "<Figure size 432x288 with 1 Axes>"
      ]
     },
     "metadata": {
      "needs_background": "light"
     },
     "output_type": "display_data"
    },
    {
     "data": {
      "image/png": "[encoded data removed]",
      "text/plain": [
       "<Figure size 432x288 with 1 Axes>"
      ]
     },
     "metadata": {
      "needs_background": "light"
     },
     "output_type": "display_data"
    }
   ],
   "source": [
    "history_frame = pd.DataFrame(history.history)\n",
    "history_frame.loc[:, ['loss', 'val_loss']].plot()\n",
    "history_frame.loc[:, ['categorical_accuracy', 'val_categorical_accuracy']].plot();"
   ]
  },
  {
   "cell_type": "code",
   "execution_count": 8,
   "metadata": {},
   "outputs": [
    {
     "data": {
      "text/plain": [
       "array([[   1,    0,    4,    0,   12,  110,    0],\n",
       "       [   1,    0,    6,    0,   13,  185,    3],\n",
       "       [   0,    0,   46,    1,  102,  290,    8],\n",
       "       [   0,    0,    1,    0,    5,   38,    1],\n",
       "       [   1,    0,   15,    1,  122,  300,    3],\n",
       "       [   0,    1,   33,    1,  160, 2472,   16],\n",
       "       [   0,    1,    0,    0,    3,   47,    4]], dtype=int64)"
      ]
     },
     "execution_count": 8,
     "metadata": {},
     "output_type": "execute_result"
    }
   ],
   "source": [
    "predictions = np.array([])\n",
    "labels =  np.array([])\n",
    "for x, y in ds_valid:\n",
    "    predict_x=model.predict(x) \n",
    "    classes_x=np.argmax(predict_x,axis=1)\n",
    "    predictions = np.concatenate([predictions, classes_x])\n",
    "    labels = np.concatenate([labels, np.argmax(y.numpy(), axis=-1)])\n",
    "\n",
    "confusion_matrix(y_true=labels, y_pred=predictions)"
   ]
  },
  {
   "cell_type": "code",
   "execution_count": 9,
   "metadata": {},
   "outputs": [
    {
     "data": {
      "text/plain": [
       "<AxesSubplot:>"
      ]
     },
     "execution_count": 9,
     "metadata": {},
     "output_type": "execute_result"
    },
    {
     "data": {
      "image/png": "[encoded data removed]",
      "text/plain": [
       "<Figure size 432x288 with 2 Axes>"
      ]
     },
     "metadata": {
      "needs_background": "light"
     },
     "output_type": "display_data"
    }
   ],
   "source": [
    "df = pd.DataFrame(confusion_matrix(y_true=labels, y_pred=predictions, normalize = 'true'),\n",
    "             columns = label_encoding,\n",
    "             index = label_encoding,)\n",
    "sns.heatmap(df, annot = True)"
   ]
  },
  {
   "cell_type": "code",
   "execution_count": 10,
   "metadata": {},
   "outputs": [
    {
     "name": "stdout",
     "output_type": "stream",
     "text": [
      "Model: \"sequential_2\"\n",
      "_________________________________________________________________\n",
      " Layer (type)                Output Shape              Param #   \n",
      "=================================================================\n",
      " batch_normalization_5 (Batc  (None, 600, 450, 3)      21        \n",
      " hNormalization)                                                 \n",
      "                                                                 \n",
      " conv2d_4 (Conv2D)           (None, 596, 446, 32)      2432      \n",
      "                                                                 \n",
      " max_pooling2d_4 (MaxPooling  (None, 298, 223, 32)     0         \n",
      " 2D)                                                             \n",
      "                                                                 \n",
      " batch_normalization_6 (Batc  (None, 298, 223, 32)     224       \n",
      " hNormalization)                                                 \n",
      "                                                                 \n",
      " conv2d_5 (Conv2D)           (None, 294, 219, 32)      25632     \n",
      "                                                                 \n",
      " max_pooling2d_5 (MaxPooling  (None, 147, 109, 32)     0         \n",
      " 2D)                                                             \n",
      "                                                                 \n",
      " batch_normalization_7 (Batc  (None, 147, 109, 32)     224       \n",
      " hNormalization)                                                 \n",
      "                                                                 \n",
      " conv2d_6 (Conv2D)           (None, 143, 105, 16)      12816     \n",
      "                                                                 \n",
      " max_pooling2d_6 (MaxPooling  (None, 71, 52, 16)       0         \n",
      " 2D)                                                             \n",
      "                                                                 \n",
      " batch_normalization_8 (Batc  (None, 71, 52, 16)       112       \n",
      " hNormalization)                                                 \n",
      "                                                                 \n",
      " conv2d_7 (Conv2D)           (None, 69, 50, 8)         1160      \n",
      "                                                                 \n",
      " max_pooling2d_7 (MaxPooling  (None, 34, 25, 8)        0         \n",
      " 2D)                                                             \n",
      "                                                                 \n",
      " batch_normalization_9 (Batc  (None, 34, 25, 8)        56        \n",
      " hNormalization)                                                 \n",
      "                                                                 \n",
      " flatten_1 (Flatten)         (None, 6800)              0         \n",
      "                                                                 \n",
      " dense_2 (Dense)             (None, 32)                217632    \n",
      "                                                                 \n",
      " dense_3 (Dense)             (None, 7)                 231       \n",
      "                                                                 \n",
      "=================================================================\n",
      "Total params: 260,540\n",
      "Trainable params: 260,085\n",
      "Non-trainable params: 455\n",
      "_________________________________________________________________\n"
     ]
    }
   ],
   "source": [
    "model2 = keras.Sequential([\n",
    "    layers.InputLayer(input_shape=[600, 450, 3]),\n",
    "    \n",
    "    # Block One\n",
    "    layers.BatchNormalization(renorm=True),\n",
    "    layers.Conv2D(filters=32, kernel_size=5, activation=layers.LeakyReLU(alpha=0.01)),\n",
    "    layers.MaxPool2D(),\n",
    "\n",
    "    # Block Two\n",
    "    layers.BatchNormalization(renorm=True),\n",
    "    layers.Conv2D(filters=32, kernel_size=5, activation=layers.LeakyReLU(alpha=0.01)),\n",
    "    layers.MaxPool2D(),\n",
    "\n",
    "    # Block Three\n",
    "    layers.BatchNormalization(renorm=True),\n",
    "    layers.Conv2D(filters=16, kernel_size=5, activation=layers.LeakyReLU(alpha=0.01)),\n",
    "    layers.MaxPool2D(),\n",
    "    \n",
    "    # Block four\n",
    "    layers.BatchNormalization(renorm=True),\n",
    "    layers.Conv2D(filters=8, kernel_size=3, activation=layers.LeakyReLU(alpha=0.01)),\n",
    "    layers.MaxPool2D(),\n",
    "\n",
    "    # Head\n",
    "    layers.BatchNormalization(renorm=True),\n",
    "    layers.Flatten(),\n",
    "    layers.Dense(32, activation=layers.LeakyReLU(alpha=0.01)),\n",
    "    layers.Dense(7, activation='softmax'),\n",
    "])\n",
    "\n",
    "optimizer = tf.keras.optimizers.Adam(epsilon = 0.01)\n",
    "model2.compile(\n",
    "    optimizer=optimizer,\n",
    "    loss='categorical_crossentropy',\n",
    "    metrics=['categorical_accuracy'],\n",
    ")\n",
    "\n",
    "model2.summary()"
   ]
  },
  {
   "cell_type": "code",
   "execution_count": 11,
   "metadata": {},
   "outputs": [],
   "source": [
    "class_weights = {\n",
    "    0 : 1,\n",
    "    1 : 1,\n",
    "    2 : 1,\n",
    "    3 : 1,\n",
    "    4 : 5,\n",
    "    5 : 1,\n",
    "    6 : 1,\n",
    "}"
   ]
  },
  {
   "cell_type": "code",
   "execution_count": 12,
   "metadata": {},
   "outputs": [
    {
     "name": "stdout",
     "output_type": "stream",
     "text": [
      "126/126 [==============================] - 1063s 8s/step - loss: 2.0670 - categorical_accuracy: 0.5393 - val_loss: 1.3643 - val_categorical_accuracy: 0.4905\n"
     ]
    }
   ],
   "source": [
    "history = model2.fit(\n",
    "    ds_train,\n",
    "    validation_data=ds_valid,\n",
    "    epochs=1,\n",
    "    use_multiprocessing=True,\n",
    "    class_weight = class_weights\n",
    ")"
   ]
  },
  {
   "cell_type": "code",
   "execution_count": 13,
   "metadata": {},
   "outputs": [
    {
     "data": {
      "text/plain": [
       "array([[   1,   21,   11,    1,   76,   17,    0],\n",
       "       [   0,   64,   18,    0,  101,   25,    0],\n",
       "       [   2,   21,   47,    0,  339,   38,    0],\n",
       "       [   0,    9,    6,    0,   19,   11,    0],\n",
       "       [   0,    1,    6,    0,  405,   30,    0],\n",
       "       [   3,   31,   27,    4, 1091, 1527,    0],\n",
       "       [   0,    5,    2,    0,   18,   30,    0]], dtype=int64)"
      ]
     },
     "execution_count": 13,
     "metadata": {},
     "output_type": "execute_result"
    }
   ],
   "source": [
    "predictions = np.array([])\n",
    "labels =  np.array([])\n",
    "for x, y in ds_train:\n",
    "    predict_x=model2.predict(x) \n",
    "    classes_x=np.argmax(predict_x,axis=1)\n",
    "    predictions = np.concatenate([predictions, classes_x])\n",
    "    labels = np.concatenate([labels, np.argmax(y.numpy(), axis=-1)])\n",
    "\n",
    "confusion_matrix(y_true=labels, y_pred=predictions)"
   ]
  },
  {
   "cell_type": "code",
   "execution_count": 14,
   "metadata": {},
   "outputs": [
    {
     "data": {
      "text/plain": [
       "<AxesSubplot:>"
      ]
     },
     "execution_count": 14,
     "metadata": {},
     "output_type": "execute_result"
    },
    {
     "data": {
      "image/png": "[encoded data removed]",
      "text/plain": [
       "<Figure size 432x288 with 2 Axes>"
      ]
     },
     "metadata": {
      "needs_background": "light"
     },
     "output_type": "display_data"
    }
   ],
   "source": [
    "df = pd.DataFrame(confusion_matrix(y_true=labels, y_pred=predictions, normalize = 'true'),\n",
    "             columns = label_encoding,\n",
    "             index = label_encoding,)\n",
    "sns.heatmap(df, annot = True)"
   ]
  },
  {
   "cell_type": "markdown",
   "metadata": {},
   "source": [
    "# binary classification"
   ]
  },
  {
   "cell_type": "code",
   "execution_count": 15,
   "metadata": {},
   "outputs": [
    {
     "name": "stdout",
     "output_type": "stream",
     "text": [
      "Found 5008 files belonging to 2 classes.\n",
      "Using 4007 files for training.\n",
      "Found 5008 files belonging to 2 classes.\n",
      "Using 1001 files for validation.\n"
     ]
    }
   ],
   "source": [
    "# Load training and validation sets\n",
    "ds_train_ = image_dataset_from_directory(\n",
    "    'data/binary_class',\n",
    "    labels='inferred',\n",
    "    label_mode='binary',\n",
    "    image_size=[600, 450],\n",
    "    interpolation='nearest',\n",
    "    batch_size=32,\n",
    "    shuffle=True,\n",
    "    color_mode = 'rgb',\n",
    "    validation_split = 0.2,\n",
    "    subset = 'training',\n",
    "    seed = 1\n",
    ")\n",
    "ds_valid_ = image_dataset_from_directory(\n",
    "    'data/binary_class',\n",
    "    labels='inferred',\n",
    "    label_mode='binary',\n",
    "    image_size=[600, 450],\n",
    "    interpolation='nearest',\n",
    "    batch_size=32,\n",
    "    shuffle=True,\n",
    "    color_mode = 'rgb',\n",
    "    validation_split = 0.2,\n",
    "    subset = 'validation',\n",
    "    seed = 1\n",
    ")\n",
    "\n",
    "# Data Pipeline\n",
    "def convert_to_float(image, label):\n",
    "    image = tf.image.convert_image_dtype(image, dtype=tf.float32)\n",
    "    return image, label\n",
    "\n",
    "AUTOTUNE = tf.data.experimental.AUTOTUNE\n",
    "ds_train = (\n",
    "    ds_train_\n",
    "    .map(convert_to_float)\n",
    "    .cache()\n",
    "    .prefetch(buffer_size=AUTOTUNE)\n",
    ")\n",
    "ds_valid = (\n",
    "    ds_valid_\n",
    "    .map(convert_to_float)\n",
    "    .cache()\n",
    "    .prefetch(buffer_size=AUTOTUNE)\n",
    ")"
   ]
  },
  {
   "cell_type": "code",
   "execution_count": 17,
   "metadata": {},
   "outputs": [
    {
     "name": "stdout",
     "output_type": "stream",
     "text": [
      "Model: \"sequential_3\"\n",
      "_________________________________________________________________\n",
      " Layer (type)                Output Shape              Param #   \n",
      "=================================================================\n",
      " batch_normalization_10 (Bat  (None, 600, 450, 3)      21        \n",
      " chNormalization)                                                \n",
      "                                                                 \n",
      " conv2d_8 (Conv2D)           (None, 596, 446, 32)      2432      \n",
      "                                                                 \n",
      " max_pooling2d_8 (MaxPooling  (None, 298, 223, 32)     0         \n",
      " 2D)                                                             \n",
      "                                                                 \n",
      " batch_normalization_11 (Bat  (None, 298, 223, 32)     224       \n",
      " chNormalization)                                                \n",
      "                                                                 \n",
      " conv2d_9 (Conv2D)           (None, 294, 219, 32)      25632     \n",
      "                                                                 \n",
      " max_pooling2d_9 (MaxPooling  (None, 147, 109, 32)     0         \n",
      " 2D)                                                             \n",
      "                                                                 \n",
      " batch_normalization_12 (Bat  (None, 147, 109, 32)     224       \n",
      " chNormalization)                                                \n",
      "                                                                 \n",
      " conv2d_10 (Conv2D)          (None, 143, 105, 16)      12816     \n",
      "                                                                 \n",
      " max_pooling2d_10 (MaxPoolin  (None, 71, 52, 16)       0         \n",
      " g2D)                                                            \n",
      "                                                                 \n",
      " batch_normalization_13 (Bat  (None, 71, 52, 16)       112       \n",
      " chNormalization)                                                \n",
      "                                                                 \n",
      " conv2d_11 (Conv2D)          (None, 69, 50, 8)         1160      \n",
      "                                                                 \n",
      " max_pooling2d_11 (MaxPoolin  (None, 34, 25, 8)        0         \n",
      " g2D)                                                            \n",
      "                                                                 \n",
      " batch_normalization_14 (Bat  (None, 34, 25, 8)        56        \n",
      " chNormalization)                                                \n",
      "                                                                 \n",
      " flatten_2 (Flatten)         (None, 6800)              0         \n",
      "                                                                 \n",
      " dense_4 (Dense)             (None, 32)                217632    \n",
      "                                                                 \n",
      " dense_5 (Dense)             (None, 1)                 33        \n",
      "                                                                 \n",
      "=================================================================\n",
      "Total params: 260,342\n",
      "Trainable params: 259,887\n",
      "Non-trainable params: 455\n",
      "_________________________________________________________________\n"
     ]
    }
   ],
   "source": [
    "model3 = keras.Sequential([\n",
    "    layers.InputLayer(input_shape=[600, 450, 3]),\n",
    "    \n",
    "    # Block One\n",
    "    # \n",
    "    layers.BatchNormalization(renorm=True),\n",
    "    layers.Conv2D(filters=32, kernel_size=5, activation=layers.LeakyReLU(alpha=0.01)),\n",
    "    layers.MaxPool2D(),\n",
    "\n",
    "    # Block Two\n",
    "    layers.BatchNormalization(renorm=True),\n",
    "    layers.Conv2D(filters=32, kernel_size=5, activation=layers.LeakyReLU(alpha=0.01)),\n",
    "    layers.MaxPool2D(),\n",
    "\n",
    "    # Block Three\n",
    "    layers.BatchNormalization(renorm=True),\n",
    "    layers.Conv2D(filters=16, kernel_size=5, activation=layers.LeakyReLU(alpha=0.01)),\n",
    "    layers.MaxPool2D(),\n",
    "    \n",
    "    # Block four\n",
    "    layers.BatchNormalization(renorm=True),\n",
    "    layers.Conv2D(filters=8, kernel_size=3, activation=layers.LeakyReLU(alpha=0.01)),\n",
    "    layers.MaxPool2D(),\n",
    "\n",
    "    # Head\n",
    "    layers.BatchNormalization(renorm=True),\n",
    "    layers.Flatten(),\n",
    "    layers.Dense(32, activation=layers.LeakyReLU(alpha=0.01)),\n",
    "    \n",
    "    # output\n",
    "    layers.Dense(1, activation='sigmoid'),\n",
    "])\n",
    "\n",
    "optimizer = tf.keras.optimizers.Adam(epsilon = 0.01)\n",
    "model3.compile(\n",
    "    optimizer=optimizer,\n",
    "    loss='binary_crossentropy',\n",
    "    metrics=['accuracy'],\n",
    ")\n",
    "\n",
    "model3.summary()"
   ]
  },
  {
   "cell_type": "code",
   "execution_count": 18,
   "metadata": {},
   "outputs": [],
   "source": [
    "class_weights = {\n",
    "    0 : 1,\n",
    "    1 : 7\n",
    "}"
   ]
  },
  {
   "cell_type": "code",
   "execution_count": 19,
   "metadata": {},
   "outputs": [
    {
     "name": "stdout",
     "output_type": "stream",
     "text": [
      "Epoch 1/2\n",
      "126/126 [==============================] - 1105s 9s/step - loss: 1.1791 - accuracy: 0.6661 - val_loss: 0.5031 - val_accuracy: 0.7363\n",
      "Epoch 2/2\n",
      "126/126 [==============================] - 1082s 9s/step - loss: 1.2338 - accuracy: 0.6459 - val_loss: 0.5679 - val_accuracy: 0.6583\n"
     ]
    }
   ],
   "source": [
    "history = model3.fit(\n",
    "    ds_train,\n",
    "    validation_data=ds_valid,\n",
    "    epochs=2,\n",
    "    use_multiprocessing=True,\n",
    "    class_weight = class_weights\n",
    ")"
   ]
  },
  {
   "cell_type": "code",
   "execution_count": 20,
   "metadata": {},
   "outputs": [],
   "source": [
    "predictions = []\n",
    "labels =  []\n",
    "for x, y in ds_train:\n",
    "    predictions = predictions + model3.predict(x).tolist()\n",
    "    labels = labels + y.numpy().tolist()"
   ]
  },
  {
   "cell_type": "code",
   "execution_count": 21,
   "metadata": {},
   "outputs": [],
   "source": [
    "predictions = [x[0] for x in predictions]\n",
    "labels = [x[0] for x in labels]"
   ]
  },
  {
   "cell_type": "code",
   "execution_count": 22,
   "metadata": {},
   "outputs": [],
   "source": [
    "temp = pd.DataFrame({\n",
    "    'prob' : predictions,\n",
    "    'label':labels\n",
    "})"
   ]
  },
  {
   "cell_type": "code",
   "execution_count": 23,
   "metadata": {},
   "outputs": [
    {
     "data": {
      "image/png": "[encoded data removed]",
      "text/plain": [
       "<Figure size 432x288 with 1 Axes>"
      ]
     },
     "metadata": {
      "needs_background": "light"
     },
     "output_type": "display_data"
    }
   ],
   "source": [
    "sns.histplot(data = temp, x = 'prob', hue = 'label')\n",
    "plt.show()"
   ]
  },
  {
   "cell_type": "code",
   "execution_count": 24,
   "metadata": {},
   "outputs": [
    {
     "data": {
      "image/png": "[encoded data removed]",
      "text/plain": [
       "<Figure size 432x288 with 1 Axes>"
      ]
     },
     "metadata": {
      "needs_background": "light"
     },
     "output_type": "display_data"
    }
   ],
   "source": [
    "nbins = 10\n",
    "bins = list(range(0, 100, int(100 / nbins)))\n",
    "bins = [b/100 for b in bins]\n",
    "\n",
    "def create_bins(p):\n",
    "    for i in range(nbins):\n",
    "        if i == nbins - 1:\n",
    "            if (p > bins[i]) and (p < 1):\n",
    "                return bins[i]\n",
    "            else:\n",
    "                return 1\n",
    "        if (p > bins[i]) and (p < bins[i+1]):\n",
    "            return bins[i]\n",
    "    return 0\n",
    "\n",
    "temp['binned_probability'] = temp['prob'].apply(create_bins)\n",
    "temp.groupby('binned_probability')['label'].mean().plot(label = 'Neural Network')\n",
    "plt.plot([0, 0.8] , [0, 0.8], 'k--',label = 'Ideal')\n",
    "plt.title(\"Calibration\")\n",
    "plt.legend()\n",
    "plt.show()"
   ]
  },
  {
   "cell_type": "code",
   "execution_count": 30,
   "metadata": {},
   "outputs": [
    {
     "data": {
      "image/png": "[encoded data removed]",
      "text/plain": [
       "<Figure size 432x288 with 2 Axes>"
      ]
     },
     "metadata": {
      "needs_background": "light"
     },
     "output_type": "display_data"
    }
   ],
   "source": [
    "predicted_class = [1 if p > 0.3 else 0 for p in predictions]\n",
    "confusion_matrix(y_true=labels, y_pred=predicted_class)\n",
    "df = pd.DataFrame(confusion_matrix(y_true=labels, y_pred=predicted_class),\n",
    "             columns = ['Predicted No', 'Predicted Yes'],\n",
    "             index = ['Actual No', 'Actual Yes'],)\n",
    "sns.heatmap(df, annot = True, fmt = 'd')\n",
    "plt.title(\"Validation set confusion matrix with 0.3 probability threshold\")\n",
    "plt.show()"
   ]
  },
  {
   "cell_type": "code",
   "execution_count": 33,
   "metadata": {},
   "outputs": [
    {
     "name": "stdout",
     "output_type": "stream",
     "text": [
      "Model: \"sequential_5\"\n",
      "_________________________________________________________________\n",
      " Layer (type)                Output Shape              Param #   \n",
      "=================================================================\n",
      " batch_normalization_21 (Bat  (None, 600, 450, 3)      21        \n",
      " chNormalization)                                                \n",
      "                                                                 \n",
      " conv2d_17 (Conv2D)          (None, 592, 442, 32)      7808      \n",
      "                                                                 \n",
      " max_pooling2d_17 (MaxPoolin  (None, 296, 221, 32)     0         \n",
      " g2D)                                                            \n",
      "                                                                 \n",
      " batch_normalization_22 (Bat  (None, 296, 221, 32)     224       \n",
      " chNormalization)                                                \n",
      "                                                                 \n",
      " conv2d_18 (Conv2D)          (None, 290, 215, 32)      50208     \n",
      "                                                                 \n",
      " max_pooling2d_18 (MaxPoolin  (None, 145, 107, 32)     0         \n",
      " g2D)                                                            \n",
      "                                                                 \n",
      " batch_normalization_23 (Bat  (None, 145, 107, 32)     224       \n",
      " chNormalization)                                                \n",
      "                                                                 \n",
      " conv2d_19 (Conv2D)          (None, 141, 103, 16)      12816     \n",
      "                                                                 \n",
      " max_pooling2d_19 (MaxPoolin  (None, 70, 51, 16)       0         \n",
      " g2D)                                                            \n",
      "                                                                 \n",
      " batch_normalization_24 (Bat  (None, 70, 51, 16)       112       \n",
      " chNormalization)                                                \n",
      "                                                                 \n",
      " conv2d_20 (Conv2D)          (None, 66, 47, 16)        6416      \n",
      "                                                                 \n",
      " max_pooling2d_20 (MaxPoolin  (None, 33, 23, 16)       0         \n",
      " g2D)                                                            \n",
      "                                                                 \n",
      " batch_normalization_25 (Bat  (None, 33, 23, 16)       112       \n",
      " chNormalization)                                                \n",
      "                                                                 \n",
      " conv2d_21 (Conv2D)          (None, 31, 21, 8)         1160      \n",
      "                                                                 \n",
      " max_pooling2d_21 (MaxPoolin  (None, 15, 10, 8)        0         \n",
      " g2D)                                                            \n",
      "                                                                 \n",
      " batch_normalization_26 (Bat  (None, 15, 10, 8)        56        \n",
      " chNormalization)                                                \n",
      "                                                                 \n",
      " flatten_4 (Flatten)         (None, 1200)              0         \n",
      "                                                                 \n",
      " dense_8 (Dense)             (None, 32)                38432     \n",
      "                                                                 \n",
      " dense_9 (Dense)             (None, 1)                 33        \n",
      "                                                                 \n",
      "=================================================================\n",
      "Total params: 117,622\n",
      "Trainable params: 117,087\n",
      "Non-trainable params: 535\n",
      "_________________________________________________________________\n"
     ]
    }
   ],
   "source": [
    "model4 = keras.Sequential([\n",
    "    layers.InputLayer(input_shape=[600, 450, 3]),\n",
    "    \n",
    "    # Block One\n",
    "    # layers.BatchNormalization(renorm=True),\n",
    "#     layers.Rescaling(scale = 1./255),\n",
    "    layers.BatchNormalization(renorm=True),\n",
    "    layers.Conv2D(filters=32, kernel_size=9, activation=layers.LeakyReLU(alpha=0.01)),\n",
    "    layers.MaxPool2D(),\n",
    "\n",
    "    # Block Two\n",
    "    layers.BatchNormalization(renorm=True),\n",
    "    layers.Conv2D(filters=32, kernel_size=7, activation=layers.LeakyReLU(alpha=0.01)),\n",
    "    layers.MaxPool2D(),\n",
    "\n",
    "    # Block Three\n",
    "    layers.BatchNormalization(renorm=True),\n",
    "    layers.Conv2D(filters=16, kernel_size=5, activation=layers.LeakyReLU(alpha=0.01)),\n",
    "    layers.MaxPool2D(),\n",
    "    \n",
    "    # Block Four\n",
    "    layers.BatchNormalization(renorm=True),\n",
    "    layers.Conv2D(filters=16, kernel_size=5, activation=layers.LeakyReLU(alpha=0.01)),\n",
    "    layers.MaxPool2D(),\n",
    "    \n",
    "    # Block four\n",
    "    layers.BatchNormalization(renorm=True),\n",
    "    layers.Conv2D(filters=8, kernel_size=3, activation=layers.LeakyReLU(alpha=0.01)),\n",
    "    layers.MaxPool2D(),\n",
    "\n",
    "    # Head\n",
    "    layers.BatchNormalization(renorm=True),\n",
    "    layers.Flatten(),\n",
    "    layers.Dense(32, activation=layers.LeakyReLU(alpha=0.01)),\n",
    "    \n",
    "    # output\n",
    "    layers.Dense(1, activation='sigmoid'),\n",
    "])\n",
    "\n",
    "optimizer = tf.keras.optimizers.Adam(epsilon=0.01)\n",
    "model4.compile(\n",
    "    optimizer=optimizer,\n",
    "    loss='binary_crossentropy',\n",
    "    metrics=['accuracy'],\n",
    ")\n",
    "\n",
    "model4.summary()"
   ]
  },
  {
   "cell_type": "code",
   "execution_count": 34,
   "metadata": {},
   "outputs": [
    {
     "name": "stdout",
     "output_type": "stream",
     "text": [
      "126/126 [==============================] - 1804s 14s/step - loss: 1.3471 - accuracy: 0.7023 - val_loss: 0.6207 - val_accuracy: 0.5934\n"
     ]
    }
   ],
   "source": [
    "history = model4.fit(\n",
    "    ds_train,\n",
    "    validation_data=ds_valid,\n",
    "    epochs=1,\n",
    "    use_multiprocessing=True,\n",
    "    class_weight = {0:1, 1:7}\n",
    ")"
   ]
  },
  {
   "cell_type": "code",
   "execution_count": 43,
   "metadata": {},
   "outputs": [
    {
     "data": {
      "image/png": "[encoded data removed]",
      "text/plain": [
       "<Figure size 432x288 with 1 Axes>"
      ]
     },
     "metadata": {
      "needs_background": "light"
     },
     "output_type": "display_data"
    }
   ],
   "source": [
    "predictions = []\n",
    "labels =  []\n",
    "for x, y in ds_train:\n",
    "    predictions = predictions + model4.predict(x).tolist()\n",
    "    labels = labels + y.numpy().tolist()\n",
    "    \n",
    "predictions = [x[0] for x in predictions]\n",
    "labels = [x[0] for x in labels]\n",
    "\n",
    "temp = pd.DataFrame({\n",
    "    'prob' : predictions,\n",
    "    'label':labels\n",
    "})\n",
    "\n",
    "sns.histplot(data = temp, x = 'prob', hue = 'label')\n",
    "plt.show()"
   ]
  },
  {
   "cell_type": "code",
   "execution_count": 44,
   "metadata": {},
   "outputs": [
    {
     "data": {
      "image/png": "[encoded data removed]",
      "text/plain": [
       "<Figure size 432x288 with 1 Axes>"
      ]
     },
     "metadata": {
      "needs_background": "light"
     },
     "output_type": "display_data"
    }
   ],
   "source": [
    "nbins = 10\n",
    "bins = list(range(0, 100, int(100 / nbins)))\n",
    "bins = [b/100 for b in bins]\n",
    "\n",
    "def create_bins(p):\n",
    "    for i in range(nbins):\n",
    "        if i == nbins - 1:\n",
    "            if (p > bins[i]) and (p < 1):\n",
    "                return bins[i]\n",
    "            else:\n",
    "                return 1\n",
    "        if (p > bins[i]) and (p < bins[i+1]):\n",
    "            return bins[i]\n",
    "    return 0\n",
    "\n",
    "temp['binned_probability'] = temp['prob'].apply(create_bins)\n",
    "temp.groupby('binned_probability')['label'].mean().plot(label = 'Neural Network')\n",
    "plt.plot([0, 0.8] , [0, 0.8], 'k--',label = 'Ideal')\n",
    "plt.title(\"Calibration\")\n",
    "plt.legend()\n",
    "plt.show()"
   ]
  },
  {
   "cell_type": "code",
   "execution_count": 46,
   "metadata": {},
   "outputs": [
    {
     "data": {
      "image/png": "[encoded data removed]",
      "text/plain": [
       "<Figure size 432x288 with 2 Axes>"
      ]
     },
     "metadata": {
      "needs_background": "light"
     },
     "output_type": "display_data"
    }
   ],
   "source": [
    "predicted_class = [1 if p > 0.3 else 0 for p in predictions]\n",
    "confusion_matrix(y_true=labels, y_pred=predicted_class)\n",
    "df = pd.DataFrame(confusion_matrix(y_true=labels, y_pred=predicted_class),\n",
    "             columns = ['Predicted No', 'Predicted Yes'],\n",
    "             index = ['Actual No', 'Actual Yes'],)\n",
    "sns.heatmap(df, annot = True, fmt = 'd')\n",
    "plt.title(\"Validation set confusion matrix with 0.3 probability threshold\")\n",
    "plt.show()"
   ]
  },
  {
   "cell_type": "markdown",
   "metadata": {},
   "source": [
    "# NN visualisation to better understand NN built and how we can imrpove it"
   ]
  },
  {
   "cell_type": "code",
   "execution_count": null,
   "metadata": {},
   "outputs": [],
   "source": [
    "layer_names = [layer.name for layer in model.layers]\n",
    "layer_names"
   ]
  },
  {
   "cell_type": "code",
   "execution_count": null,
   "metadata": {},
   "outputs": [],
   "source": [
    "model.layers"
   ]
  },
  {
   "cell_type": "code",
   "execution_count": null,
   "metadata": {},
   "outputs": [],
   "source": [
    "feature_map_model = tf.keras.Model(model.inputs, layer_outputs)"
   ]
  },
  {
   "cell_type": "code",
   "execution_count": null,
   "metadata": {},
   "outputs": [],
   "source": [
    "image_path= r\"C:\\Users\\singl\\studies\\AML\\Project\\HAM10000Classification\\data\\all_images\\ISIC_0024306.jpg\" \n",
    "img = tf.keras.preprocessing.image.load_img(image_path, target_size=(600, 450, 3))  \n",
    "input = tf.keras.preprocessing.image.img_to_array(img)                        \n",
    "# input = input.reshape((1,) + input.shape)                   \n",
    "# input /= 255.0"
   ]
  },
  {
   "cell_type": "code",
   "execution_count": null,
   "metadata": {},
   "outputs": [],
   "source": [
    "input.shape"
   ]
  },
  {
   "cell_type": "code",
   "execution_count": null,
   "metadata": {},
   "outputs": [],
   "source": [
    "feature_maps = feature_map_model.predict(ds_valid)"
   ]
  },
  {
   "cell_type": "code",
   "execution_count": null,
   "metadata": {},
   "outputs": [],
   "source": [
    "for layer in model.layers:\n",
    "    if 'conv' in layer.name:\n",
    "        weights, bias= layer.get_weights()\n",
    "        print(layer.name, filters.shape)\n",
    "        \n",
    "        #normalize filter values between  0 and 1 for visualization\n",
    "        f_min, f_max = weights.min(), weights.max()\n",
    "        filters = (weights - f_min) / (f_max - f_min)  \n",
    "        print(filters.shape[3])\n",
    "        filter_cnt=1\n",
    "        \n",
    "        #plotting all the filters\n",
    "        for i in range(filters.shape[3]):\n",
    "            #get the filters\n",
    "            filt=filters[:,:,:, i]\n",
    "            #plotting each of the channel, color image RGB channels\n",
    "            for j in range(filters.shape[0]):\n",
    "                ax= plt.subplot(filters.shape[3], filters.shape[0], filter_cnt  )\n",
    "                ax.set_xticks([])\n",
    "                ax.set_yticks([])\n",
    "                plt.imshow(filt[:,:, j])\n",
    "                filter_cnt+=1\n",
    "        plt.show()"
   ]
  },
  {
   "cell_type": "code",
   "execution_count": null,
   "metadata": {},
   "outputs": [],
   "source": [
    "import tensorflow as tf\n",
    "from matplotlib import pyplot as plt\n",
    "\n",
    "#Visualizes convolutional layer activations\n",
    "def visualize_activations(model, validation_iterator):\n",
    "\n",
    "  #A keras model that will output our previous model's activations for each convolutional layer:\n",
    "  activation_extractor = tf.keras.Model(inputs=model.inputs, \n",
    "                                        outputs=[layer.output for layer in model.layers if \"conv2d\" in layer.name])\n",
    "\n",
    "  #Take matplotlib frame and remove axes.\n",
    "  def clean_plot(plot):\n",
    "    plot.axes.get_xaxis().set_visible(False)\n",
    "    plot.axes.get_yaxis().set_visible(False)\n",
    "\n",
    "  #Dict mapping from class numbers to string labels:\n",
    "  class_names = {0:\"Regular\",1:\"Ringed\",2:\"Merger\",3:\"Other\"}\n",
    "\n",
    "  #Loads a sample batch of data\n",
    "  sample_batch_input,sample_labels = validation_iterator.take(1)\n",
    " \n",
    "  #Grabs the first five images\n",
    "  sample_batch_input = sample_batch_input[:5]\n",
    "  sample_labels = sample_labels[:5]\n",
    "\n",
    "  #Makes predictions using model.predict(x)\n",
    "  sample_predictions = model.predict(sample_batch_input)\n",
    "\n",
    "  #Iterate of images, predictions, and true labels\n",
    "  for i,(image, prediction, label) in enumerate(zip(sample_batch_input, sample_predictions, sample_labels)):\n",
    "\n",
    "    image_name = \"Galaxy_{}\".format(i)\n",
    "\n",
    "    #Gets predicted class with highest probability\n",
    "\n",
    "    predicted_class = tf.argmax(prediction).numpy()\n",
    "\n",
    "    #Gets correct label\n",
    "    actual_class = tf.argmax(label).numpy()\n",
    "\n",
    "    print(image_name)\n",
    "    print(\"\\tModel prediction: {}\".format(prediction))\n",
    "    print(\"\\tTrue label: {} ({})\".format(class_names[actual_class], actual_class))\n",
    "    print(\"\\tCorrect:\", predicted_class == actual_class)\n",
    "\n",
    "    #Saves image file using matplotlib\n",
    "    sample_image = image\n",
    "    clean_plot(plt.imshow(sample_image))\n",
    "\n",
    "    plt.title(image_name+\" Predicted: {}, Actual: {}\".format(class_names[predicted_class], class_names[actual_class]))\n",
    "    plt.savefig('static/images/'+image_name+\".png\")\n",
    "    model_layer_output = activation_extractor(tf.expand_dims(sample_image,0))\n",
    "    \n",
    "    plt.clf()\n",
    "\n",
    "    #Iterates over each layer output\n",
    "    for l_num,output_data in enumerate(model_layer_output):\n",
    "\n",
    "      #Creates a subplot for each filter\n",
    "      fig, axs = plt.subplots(1, output_data.shape[-1])\n",
    "      \n",
    "      #For each filter\n",
    "      for i in range(output_data.shape[-1]):\n",
    "\n",
    "        #Plots the filter's activations\n",
    "        \n",
    "        clean_plot(axs[i].imshow(output_data[0][:, :, i], cmap=\"gray\"))\n",
    "      plt.suptitle(image_name+\" Conv {}\".format(l_num),y=0.6)\n",
    "      plt.savefig('static/images/' + image_name+ \"Conv{}.png\".format(l_num))\n",
    "      plt.clf()"
   ]
  },
  {
   "cell_type": "code",
   "execution_count": null,
   "metadata": {},
   "outputs": [],
   "source": [
    "visualize_activations(model,ds_train)"
   ]
  },
  {
   "cell_type": "code",
   "execution_count": null,
   "metadata": {},
   "outputs": [],
   "source": [
    "for images, label in ds_train"
   ]
  },
  {
   "cell_type": "code",
   "execution_count": null,
   "metadata": {},
   "outputs": [],
   "source": []
  },
  {
   "cell_type": "code",
   "execution_count": null,
   "metadata": {},
   "outputs": [],
   "source": []
  }
 ],
 "metadata": {
  "kernelspec": {
   "display_name": "Python 3 (ipykernel)",
   "language": "python",
   "name": "python3"
  },
  "language_info": {
   "codemirror_mode": {
    "name": "ipython",
    "version": 3
   },
   "file_extension": ".py",
   "mimetype": "text/x-python",
   "name": "python",
   "nbconvert_exporter": "python",
   "pygments_lexer": "ipython3",
   "version": "3.8.12"
  },
  "varInspector": {
   "cols": {
    "lenName": 16,
    "lenType": 16,
    "lenVar": 40
   },
   "kernels_config": {
    "python": {
     "delete_cmd_postfix": "",
     "delete_cmd_prefix": "del ",
     "library": "var_list.py",
     "varRefreshCmd": "print(var_dic_list())"
    },
    "r": {
     "delete_cmd_postfix": ") ",
     "delete_cmd_prefix": "rm(",
     "library": "var_list.r",
     "varRefreshCmd": "cat(var_dic_list()) "
    }
   },
   "types_to_exclude": [
    "module",
    "function",
    "builtin_function_or_method",
    "instance",
    "_Feature"
   ],
   "window_display": false
  }
 },
 "nbformat": 4,
 "nbformat_minor": 4
}
