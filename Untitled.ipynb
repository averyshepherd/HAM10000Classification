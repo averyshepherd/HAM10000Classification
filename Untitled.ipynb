{
 "cells": [
  {
   "cell_type": "code",
   "execution_count": 9,
   "id": "30989a79",
   "metadata": {},
   "outputs": [],
   "source": [
    "import tensorflow as tf\n",
    "from tensorflow.keras.preprocessing.image import ImageDataGenerator\n",
    "\n",
    "import pandas as pd\n",
    "\n",
    "import seaborn as sns\n",
    "\n",
    "import numpy as np\n",
    "\n",
    "\n",
    "from tensorflow.keras import Sequential\n",
    "from tensorflow.keras.optimizers import Adam\n",
    "from tensorflow.keras.layers import Input, InputLayer, Dense, Conv2D, Flatten, MaxPooling2D\n",
    "from sklearn.model_selection import train_test_split"
   ]
  },
  {
   "cell_type": "code",
   "execution_count": 3,
   "id": "e1fceaa8",
   "metadata": {},
   "outputs": [],
   "source": [
    "df = pd.read_csv('hmnist_28_28_L.csv')"
   ]
  },
  {
   "cell_type": "code",
   "execution_count": 4,
   "id": "f4684a2c",
   "metadata": {},
   "outputs": [],
   "source": [
    "x = df.iloc[:, :-1].copy()\n",
    "y = df.iloc[:, -1].copy()"
   ]
  },
  {
   "cell_type": "code",
   "execution_count": 10,
   "id": "291410fc",
   "metadata": {},
   "outputs": [
    {
     "data": {
      "text/plain": [
       "<AxesSubplot:>"
      ]
     },
     "execution_count": 10,
     "metadata": {},
     "output_type": "execute_result"
    },
    {
     "data": {
      "image/png": "[encoded data removed]",
      "text/plain": [
       "<Figure size 432x288 with 2 Axes>"
      ]
     },
     "metadata": {
      "needs_background": "light"
     },
     "output_type": "display_data"
    }
   ],
   "source": [
    "sns.heatmap(np.array(x.iloc[0,:]).reshape(28,28))"
   ]
  },
  {
   "cell_type": "code",
   "execution_count": null,
   "id": "47cf211a",
   "metadata": {},
   "outputs": [],
   "source": [
    "input_data, labels = load_galaxy_data()\n",
    "print(input_data.shape)\n",
    "print(labels.shape)\n",
    "\n",
    "X_train, X_test, y_train, y_test = train_test_split(input_data,\n",
    "                                                    labels,\n",
    "                                                    train_size=.8,\n",
    "                                                    stratify=labels)\n",
    "rescale_value = np.amax(input_data)\n",
    "train_image_generator = ImageDataGenerator(rescale = 1.0/rescale_value)\n",
    "test_image_generator = ImageDataGenerator(rescale = 1.0/rescale_value)\n",
    "                                            \n",
    "train_itr = train_image_generator.flow(X_train,\n",
    "                                      y_train,\n",
    "                                      batch_size = 5)\n",
    "test_itr = test_image_generator.flow(X_test,\n",
    "                                      y_test,\n",
    "                                      batch_size = 5)\n",
    "\n",
    "model = Sequential()\n",
    "\n",
    "model.add(Input(shape = (128, 128, 3)))\n",
    "model.add(Conv2D(8, 3, strides = 2, activation = 'relu'))\n",
    "model.add(MaxPooling2D(pool_size  = (2,2), strides = (2,2)))\n",
    "model.add(Conv2D(8, 3, strides = 2, activation = 'relu'))\n",
    "model.add(MaxPooling2D(pool_size  = (2,2), strides = (2,2)))\n",
    "\n",
    "model.add(Flatten())\n",
    "\n",
    "model.add(Dense(16, activation = 'relu'))\n",
    "model.add(Dense(4, activation = 'softmax'))\n",
    "\n",
    "model.compile(loss = 'categorical_crossentropy',\n",
    "              metrics = [tf.keras.metrics.CategoricalAccuracy(),tf.keras.metrics.AUC()],\n",
    "              optimizer = Adam(learning_rate = 0.001))\n",
    "\n",
    "print(model.summary())\n",
    "history  = model.fit(train_itr,\n",
    "          steps_per_epoch = len(X_train) / 5,\n",
    "          validation_data = test_itr,\n",
    "          validation_steps = len(X_test) / 5,\n",
    "          epochs = 8)\n",
    "\n",
    "print(history.history['loss'])\n",
    "visualize_activations(model,test_itr)"
   ]
  }
 ],
 "metadata": {
  "kernelspec": {
   "display_name": "Python 3",
   "language": "python",
   "name": "python3"
  },
  "language_info": {
   "codemirror_mode": {
    "name": "ipython",
    "version": 3
   },
   "file_extension": ".py",
   "mimetype": "text/x-python",
   "name": "python",
   "nbconvert_exporter": "python",
   "pygments_lexer": "ipython3",
   "version": "3.8.8"
  },
  "varInspector": {
   "cols": {
    "lenName": 16,
    "lenType": 16,
    "lenVar": 40
   },
   "kernels_config": {
    "python": {
     "delete_cmd_postfix": "",
     "delete_cmd_prefix": "del ",
     "library": "var_list.py",
     "varRefreshCmd": "print(var_dic_list())"
    },
    "r": {
     "delete_cmd_postfix": ") ",
     "delete_cmd_prefix": "rm(",
     "library": "var_list.r",
     "varRefreshCmd": "cat(var_dic_list()) "
    }
   },
   "types_to_exclude": [
    "module",
    "function",
    "builtin_function_or_method",
    "instance",
    "_Feature"
   ],
   "window_display": false
  }
 },
 "nbformat": 4,
 "nbformat_minor": 5
}
