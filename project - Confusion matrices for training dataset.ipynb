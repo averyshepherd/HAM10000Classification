{
 "cells": [
  {
   "cell_type": "code",
   "execution_count": 1,
   "metadata": {
    "ExecuteTime": {
     "end_time": "2021-11-18T22:47:07.375517Z",
     "start_time": "2021-11-18T22:47:07.223097Z"
    },
    "execution": {
     "iopub.execute_input": "2021-05-29T08:02:38.710006Z",
     "iopub.status.busy": "2021-05-29T08:02:38.709644Z",
     "iopub.status.idle": "2021-05-29T08:02:52.906946Z",
     "shell.execute_reply": "2021-05-29T08:02:52.905572Z",
     "shell.execute_reply.started": "2021-05-29T08:02:38.709928Z"
    }
   },
   "outputs": [],
   "source": [
    "from tensorflow import keras\n",
    "from tensorflow.keras import layers\n",
    "from tensorflow.keras.layers.experimental import preprocessing\n",
    "\n",
    "import matplotlib.pyplot as plt\n",
    "from matplotlib import gridspec\n",
    "\n",
    "import numpy as np\n",
    "import tensorflow as tf\n",
    "from tensorflow.keras.preprocessing import image_dataset_from_directory\n",
    "from tensorflow.keras.preprocessing.image import ImageDataGenerator\n",
    "\n",
    "import pandas as pd\n",
    "\n",
    "from os import listdir\n",
    "from os.path import isfile, join\n",
    "\n",
    "import shutil\n",
    "\n",
    "import seaborn as sns\n",
    "\n",
    "from sklearn.metrics import confusion_matrix\n",
    "\n",
    "import shap\n",
    "\n",
    "%matplotlib inline"
   ]
  },
  {
   "cell_type": "code",
   "execution_count": 2,
   "metadata": {},
   "outputs": [
    {
     "data": {
      "text/plain": [
       "<AxesSubplot:>"
      ]
     },
     "execution_count": 2,
     "metadata": {},
     "output_type": "execute_result"
    },
    {
     "data": {
      "image/png": "[encoded data removed]",
      "text/plain": [
       "<Figure size 432x288 with 1 Axes>"
      ]
     },
     "metadata": {
      "needs_background": "light"
     },
     "output_type": "display_data"
    }
   ],
   "source": [
    "df = pd.read_csv('data/HAM10000_metadata.csv')\n",
    "df.head()\n",
    "\n",
    "filtered = df.iloc[list(range(0, len(df), 2)),:].copy().reset_index(drop = True)\n",
    "filtered.head()\n",
    "\n",
    "filtered['dx'].value_counts(normalize = True).plot(kind = 'bar')"
   ]
  },
  {
   "cell_type": "code",
   "execution_count": 3,
   "metadata": {},
   "outputs": [
    {
     "data": {
      "image/png": "[encoded data removed]",
      "text/plain": [
       "<Figure size 432x288 with 1 Axes>"
      ]
     },
     "metadata": {},
     "output_type": "display_data"
    }
   ],
   "source": [
    "filtered['dx'].value_counts(normalize = True).plot(kind = 'pie')\n",
    "plt.ylabel(None)\n",
    "plt.show()"
   ]
  },
  {
   "cell_type": "code",
   "execution_count": 4,
   "metadata": {},
   "outputs": [
    {
     "data": {
      "text/plain": [
       "['akiec', 'bcc', 'bkl', 'df', 'mel', 'nv', 'vasc']"
      ]
     },
     "execution_count": 4,
     "metadata": {},
     "output_type": "execute_result"
    }
   ],
   "source": [
    "label_encoding = sorted(list(filtered['dx'].unique()))\n",
    "label_encoding\n",
    "\n",
    "#############Enablefor mving files #################\n",
    "\n",
    "# image_labels = dict(zip(filtered['image_id'], filtered['dx']))\n",
    "\n",
    "# train_path = 'data/all_images'\n",
    "# onlyfiles = [f for f in listdir(train_path) if isfile(join(train_path, f))]\n",
    "\n",
    "# for i in filtered['image_id']:\n",
    "#     source = train_path + \"/\" + i + '.jpg'\n",
    "#     dest = train_path + \"/\" + image_labels[i] + \"/\" + i + '.jpg'\n",
    "# #     print(source)\n",
    "# #     print(dest)\n",
    "#     shutil.copy(source, dest)"
   ]
  },
  {
   "cell_type": "code",
   "execution_count": null,
   "metadata": {},
   "outputs": [],
   "source": []
  },
  {
   "cell_type": "code",
   "execution_count": 5,
   "metadata": {
    "ExecuteTime": {
     "end_time": "2021-11-18T22:47:07.375517Z",
     "start_time": "2021-11-18T22:47:07.223097Z"
    },
    "execution": {
     "iopub.execute_input": "2021-05-29T08:02:38.710006Z",
     "iopub.status.busy": "2021-05-29T08:02:38.709644Z",
     "iopub.status.idle": "2021-05-29T08:02:52.906946Z",
     "shell.execute_reply": "2021-05-29T08:02:52.905572Z",
     "shell.execute_reply.started": "2021-05-29T08:02:38.709928Z"
    }
   },
   "outputs": [
    {
     "name": "stdout",
     "output_type": "stream",
     "text": [
      "Found 5008 files belonging to 7 classes.\n",
      "Using 4007 files for training.\n",
      "Found 5008 files belonging to 7 classes.\n",
      "Using 1001 files for validation.\n"
     ]
    }
   ],
   "source": [
    "# Load training and validation sets\n",
    "\n",
    "# prefetches images\n",
    "# keep the images for training ready. \n",
    "# when one batch is being used for training\n",
    "\n",
    "ds_train_ = image_dataset_from_directory(\n",
    "    'data/all_images',\n",
    "    labels='inferred',\n",
    "    label_mode='categorical',\n",
    "    image_size=[600, 450],\n",
    "    interpolation='nearest',\n",
    "    batch_size=4,\n",
    "    shuffle=True,\n",
    "    color_mode = 'rgb',\n",
    "    validation_split = 0.2,\n",
    "    subset = 'training',\n",
    "    seed = 2\n",
    ")\n",
    "ds_valid_ = image_dataset_from_directory(\n",
    "    'data/all_images',\n",
    "    labels='inferred',\n",
    "    label_mode='categorical',\n",
    "    image_size=[600, 450],\n",
    "    interpolation='nearest',\n",
    "    batch_size=4,\n",
    "    shuffle=True,\n",
    "    color_mode = 'rgb',\n",
    "    validation_split = 0.2,\n",
    "    subset = 'validation',\n",
    "    seed = 2\n",
    ")\n",
    "\n",
    "# Data Pipeline\n",
    "def convert_to_float(image, label):\n",
    "    image = tf.image.convert_image_dtype(image, dtype=tf.float32)\n",
    "    return image, label\n",
    "\n",
    "AUTOTUNE = tf.data.experimental.AUTOTUNE\n",
    "ds_train = (\n",
    "    ds_train_\n",
    "    .map(convert_to_float)\n",
    "    .cache()\n",
    "    .prefetch(buffer_size=AUTOTUNE)\n",
    ")\n",
    "ds_valid = (\n",
    "    ds_valid_\n",
    "    .map(convert_to_float)\n",
    "    .cache()\n",
    "    .prefetch(buffer_size=AUTOTUNE)\n",
    ")"
   ]
  },
  {
   "cell_type": "markdown",
   "metadata": {},
   "source": [
    "# Data Augmentation (To be explored later)"
   ]
  },
  {
   "cell_type": "code",
   "execution_count": 6,
   "metadata": {
    "execution": {
     "iopub.execute_input": "2021-05-29T08:02:52.908721Z",
     "iopub.status.busy": "2021-05-29T08:02:52.908456Z",
     "iopub.status.idle": "2021-05-29T08:02:56.178102Z",
     "shell.execute_reply": "2021-05-29T08:02:56.177185Z",
     "shell.execute_reply.started": "2021-05-29T08:02:52.908696Z"
    },
    "lines_to_next_cell": 0
   },
   "outputs": [],
   "source": [
    "# all of the \"factor\" parameters indicate a percent-change\n",
    "augment = keras.Sequential([\n",
    "    # preprocessing.RandomContrast(factor=0.5),\n",
    "    preprocessing.RandomFlip(mode='horizontal'), # meaning, left-to-right\n",
    "    # preprocessing.RandomFlip(mode='vertical'), # meaning, top-to-bottom\n",
    "    # preprocessing.RandomWidth(factor=0.15), # horizontal stretch\n",
    "    # preprocessing.RandomRotation(factor=0.20),\n",
    "    # preprocessing.RandomTranslation(height_factor=0.1, width_factor=0.1),\n",
    "])"
   ]
  },
  {
   "cell_type": "markdown",
   "metadata": {},
   "source": [
    "# NN"
   ]
  },
  {
   "cell_type": "markdown",
   "metadata": {},
   "source": [
    "## NN creation"
   ]
  },
  {
   "cell_type": "code",
   "execution_count": 11,
   "metadata": {
    "execution": {
     "iopub.execute_input": "2021-05-29T08:10:47.521153Z",
     "iopub.status.busy": "2021-05-29T08:10:47.520841Z",
     "iopub.status.idle": "2021-05-29T08:10:47.708034Z",
     "shell.execute_reply": "2021-05-29T08:10:47.70703Z",
     "shell.execute_reply.started": "2021-05-29T08:10:47.521124Z"
    },
    "lines_to_next_cell": 2
   },
   "outputs": [
    {
     "name": "stdout",
     "output_type": "stream",
     "text": [
      "Model: \"sequential_2\"\n",
      "_________________________________________________________________\n",
      "Layer (type)                 Output Shape              Param #   \n",
      "=================================================================\n",
      "batch_normalization (BatchNo (None, 600, 450, 3)       21        \n",
      "_________________________________________________________________\n",
      "conv2d_4 (Conv2D)            (None, 596, 446, 32)      2432      \n",
      "_________________________________________________________________\n",
      "max_pooling2d_4 (MaxPooling2 (None, 298, 223, 32)      0         \n",
      "_________________________________________________________________\n",
      "batch_normalization_1 (Batch (None, 298, 223, 32)      224       \n",
      "_________________________________________________________________\n",
      "conv2d_5 (Conv2D)            (None, 294, 219, 32)      25632     \n",
      "_________________________________________________________________\n",
      "max_pooling2d_5 (MaxPooling2 (None, 147, 109, 32)      0         \n",
      "_________________________________________________________________\n",
      "batch_normalization_2 (Batch (None, 147, 109, 32)      224       \n",
      "_________________________________________________________________\n",
      "conv2d_6 (Conv2D)            (None, 143, 105, 16)      12816     \n",
      "_________________________________________________________________\n",
      "max_pooling2d_6 (MaxPooling2 (None, 71, 52, 16)        0         \n",
      "_________________________________________________________________\n",
      "batch_normalization_3 (Batch (None, 71, 52, 16)        112       \n",
      "_________________________________________________________________\n",
      "conv2d_7 (Conv2D)            (None, 69, 50, 8)         1160      \n",
      "_________________________________________________________________\n",
      "max_pooling2d_7 (MaxPooling2 (None, 34, 25, 8)         0         \n",
      "_________________________________________________________________\n",
      "batch_normalization_4 (Batch (None, 34, 25, 8)         56        \n",
      "_________________________________________________________________\n",
      "flatten_1 (Flatten)          (None, 6800)              0         \n",
      "_________________________________________________________________\n",
      "dense_2 (Dense)              (None, 32)                217632    \n",
      "_________________________________________________________________\n",
      "dense_3 (Dense)              (None, 7)                 231       \n",
      "=================================================================\n",
      "Total params: 260,540\n",
      "Trainable params: 260,085\n",
      "Non-trainable params: 455\n",
      "_________________________________________________________________\n"
     ]
    }
   ],
   "source": [
    "from tensorflow import keras\n",
    "from tensorflow.keras import layers\n",
    "\n",
    "model = keras.Sequential([\n",
    "    #input image\n",
    "    layers.InputLayer(input_shape=[600, 450, 3]),\n",
    "\n",
    "    # Block Two\n",
    "    layers.BatchNormalization(renorm=True),\n",
    "    layers.Conv2D(filters=32, kernel_size=5, activation=layers.LeakyReLU(alpha=0.01)),\n",
    "    layers.MaxPool2D(),\n",
    "    \n",
    "     # Block Three\n",
    "    layers.BatchNormalization(renorm=True),\n",
    "    layers.Conv2D(filters=32, kernel_size=5, activation=layers.LeakyReLU(alpha=0.01)),\n",
    "    layers.MaxPool2D(),\n",
    "\n",
    "    # Block Three\n",
    "    layers.BatchNormalization(renorm=True),\n",
    "    layers.Conv2D(filters=16, kernel_size=5, activation=layers.LeakyReLU(alpha=0.01)),\n",
    "    layers.MaxPool2D(),\n",
    "    \n",
    "    # Block four\n",
    "    layers.BatchNormalization(renorm=True),\n",
    "    layers.Conv2D(filters=8, kernel_size=3, activation=layers.LeakyReLU(alpha=0.01)),\n",
    "    layers.MaxPool2D(),\n",
    "\n",
    "    # Flattening back to \"1D\"\n",
    "    layers.BatchNormalization(renorm=True),\n",
    "    layers.Flatten(),\n",
    "    layers.Dense(32, activation=layers.LeakyReLU(alpha=0.01)),\n",
    "    \n",
    "    #output\n",
    "    layers.Dense(7, activation='softmax'),\n",
    "])\n",
    "\n",
    "optimizer = tf.keras.optimizers.Adam(epsilon = 0.01)\n",
    "model.compile(\n",
    "    optimizer=optimizer,\n",
    "    loss='categorical_crossentropy',\n",
    "    metrics=['categorical_accuracy'],\n",
    ")\n",
    "\n",
    "model.summary()"
   ]
  },
  {
   "cell_type": "code",
   "execution_count": 12,
   "metadata": {},
   "outputs": [
    {
     "data": {
      "text/plain": [
       "<tensorflow.python.eager.context._EagerDeviceContext at 0x1f84cdcc800>"
      ]
     },
     "execution_count": 12,
     "metadata": {},
     "output_type": "execute_result"
    }
   ],
   "source": [
    "tf.device(\"/gpu:0\")"
   ]
  },
  {
   "cell_type": "code",
   "execution_count": 13,
   "metadata": {},
   "outputs": [],
   "source": [
    "save = 0"
   ]
  },
  {
   "cell_type": "code",
   "execution_count": 14,
   "metadata": {},
   "outputs": [],
   "source": [
    "if save == 1:\n",
    "    history = model.fit(\n",
    "        ds_train,\n",
    "        validation_data=ds_valid,\n",
    "        epochs=1,\n",
    "        use_multiprocessing=True,\n",
    "    )\n",
    "    model.save_weights('model1')\n",
    "else:\n",
    "    model.load_weights('model1')"
   ]
  },
  {
   "cell_type": "code",
   "execution_count": 110,
   "metadata": {},
   "outputs": [
    {
     "name": "stdout",
     "output_type": "stream",
     "text": [
      "Train on 1002 steps, validate on 251 steps\n",
      "1002/1002 [==============================] - 1438s 1s/step - batch: 500.5000 - size: 1.0000 - loss: 1.1962 - categorical_accuracy: 0.6681 - val_loss: 1.1517 - val_categorical_accuracy: 0.6683\n"
     ]
    }
   ],
   "source": [
    "history = model.fit(\n",
    "        ds_train,\n",
    "        validation_data=ds_valid,\n",
    "        epochs=1,\n",
    "        use_multiprocessing=True,\n",
    "    )"
   ]
  },
  {
   "cell_type": "code",
   "execution_count": null,
   "metadata": {
    "execution": {
     "iopub.execute_input": "2021-05-29T08:10:53.795805Z",
     "iopub.status.busy": "2021-05-29T08:10:53.795434Z",
     "iopub.status.idle": "2021-05-29T08:20:37.694037Z",
     "shell.execute_reply": "2021-05-29T08:20:37.693307Z",
     "shell.execute_reply.started": "2021-05-29T08:10:53.795774Z"
    },
    "lines_to_next_cell": 2
   },
   "outputs": [],
   "source": [
    "history_frame = pd.DataFrame(history.history)\n",
    "history_frame.loc[:, ['loss', 'val_loss']].plot()\n",
    "history_frame.loc[:, ['categorical_accuracy', 'val_categorical_accuracy']].plot();"
   ]
  },
  {
   "cell_type": "code",
   "execution_count": 11,
   "metadata": {},
   "outputs": [
    {
     "data": {
      "text/plain": [
       "array([[   5,    9,   35,    3,    1,   71,    3],\n",
       "       [   1,   33,   48,    2,    1,  122,    1],\n",
       "       [   2,    4,  125,    1,    1,  313,    1],\n",
       "       [   0,    7,   13,    3,    0,   22,    0],\n",
       "       [   0,    2,   30,    0,    5,  402,    3],\n",
       "       [   0,   20,   67,    2,    1, 2593,    0],\n",
       "       [   3,    0,    4,    0,    2,   44,    2]], dtype=int64)"
      ]
     },
     "execution_count": 11,
     "metadata": {},
     "output_type": "execute_result"
    }
   ],
   "source": [
    "predictions = np.array([])\n",
    "labels =  np.array([])\n",
    "for x, y in ds_train:\n",
    "    predict_x=model.predict(x) \n",
    "    classes_x=np.argmax(predict_x,axis=1)\n",
    "    predictions = np.concatenate([predictions, classes_x])\n",
    "    labels = np.concatenate([labels, np.argmax(y.numpy(), axis=-1)])\n",
    "\n",
    "confusion_matrix(y_true=labels, y_pred=predictions)"
   ]
  },
  {
   "cell_type": "code",
   "execution_count": 12,
   "metadata": {},
   "outputs": [
    {
     "data": {
      "text/plain": [
       "<AxesSubplot:>"
      ]
     },
     "execution_count": 12,
     "metadata": {},
     "output_type": "execute_result"
    },
    {
     "data": {
      "image/png": "[encoded data removed]",
      "text/plain": [
       "<Figure size 432x288 with 2 Axes>"
      ]
     },
     "metadata": {
      "needs_background": "light"
     },
     "output_type": "display_data"
    }
   ],
   "source": [
    "df = pd.DataFrame(confusion_matrix(y_true=labels, y_pred=predictions, normalize = 'true'),\n",
    "             columns = label_encoding,\n",
    "             index = label_encoding,)\n",
    "sns.heatmap(df, annot = True)"
   ]
  },
  {
   "cell_type": "code",
   "execution_count": 13,
   "metadata": {},
   "outputs": [
    {
     "data": {
      "text/plain": [
       "array([[  0,   2,  10,   0,   2,  22,   0],\n",
       "       [  1,   5,  12,   0,   1,  29,   1],\n",
       "       [  0,   1,  32,   0,   0,  71,   0],\n",
       "       [  0,   1,   3,   0,   0,   8,   0],\n",
       "       [  0,   0,  10,   0,   0, 103,   2],\n",
       "       [  1,   7,  17,   0,   1, 643,   0],\n",
       "       [  0,   2,   2,   0,   0,  10,   2]], dtype=int64)"
      ]
     },
     "execution_count": 13,
     "metadata": {},
     "output_type": "execute_result"
    }
   ],
   "source": [
    "predictions = np.array([])\n",
    "labels =  np.array([])\n",
    "for x, y in ds_valid:\n",
    "    predict_x=model.predict(x) \n",
    "    classes_x=np.argmax(predict_x,axis=1)\n",
    "    predictions = np.concatenate([predictions, classes_x])\n",
    "    labels = np.concatenate([labels, np.argmax(y.numpy(), axis=-1)])\n",
    "\n",
    "confusion_matrix(y_true=labels, y_pred=predictions)"
   ]
  },
  {
   "cell_type": "code",
   "execution_count": 14,
   "metadata": {},
   "outputs": [
    {
     "data": {
      "text/plain": [
       "<AxesSubplot:>"
      ]
     },
     "execution_count": 14,
     "metadata": {},
     "output_type": "execute_result"
    },
    {
     "data": {
      "image/png": "[encoded data removed]",
      "text/plain": [
       "<Figure size 432x288 with 2 Axes>"
      ]
     },
     "metadata": {
      "needs_background": "light"
     },
     "output_type": "display_data"
    }
   ],
   "source": [
    "df = pd.DataFrame(confusion_matrix(y_true=labels, y_pred=predictions, normalize = 'true'),\n",
    "             columns = label_encoding,\n",
    "             index = label_encoding,)\n",
    "sns.heatmap(df, annot = True)"
   ]
  },
  {
   "cell_type": "code",
   "execution_count": 32,
   "metadata": {},
   "outputs": [
    {
     "name": "stdout",
     "output_type": "stream",
     "text": [
      "Model: \"sequential\"\n",
      "_________________________________________________________________\n",
      "Layer (type)                 Output Shape              Param #   \n",
      "=================================================================\n",
      "batch_normalization (BatchNo (None, 600, 450, 3)       21        \n",
      "_________________________________________________________________\n",
      "conv2d (Conv2D)              (None, 596, 446, 32)      2432      \n",
      "_________________________________________________________________\n",
      "max_pooling2d (MaxPooling2D) (None, 298, 223, 32)      0         \n",
      "_________________________________________________________________\n",
      "batch_normalization_1 (Batch (None, 298, 223, 32)      224       \n",
      "_________________________________________________________________\n",
      "conv2d_1 (Conv2D)            (None, 294, 219, 32)      25632     \n",
      "_________________________________________________________________\n",
      "max_pooling2d_1 (MaxPooling2 (None, 147, 109, 32)      0         \n",
      "_________________________________________________________________\n",
      "batch_normalization_2 (Batch (None, 147, 109, 32)      224       \n",
      "_________________________________________________________________\n",
      "conv2d_2 (Conv2D)            (None, 143, 105, 16)      12816     \n",
      "_________________________________________________________________\n",
      "max_pooling2d_2 (MaxPooling2 (None, 71, 52, 16)        0         \n",
      "_________________________________________________________________\n",
      "batch_normalization_3 (Batch (None, 71, 52, 16)        112       \n",
      "_________________________________________________________________\n",
      "conv2d_3 (Conv2D)            (None, 69, 50, 8)         1160      \n",
      "_________________________________________________________________\n",
      "max_pooling2d_3 (MaxPooling2 (None, 34, 25, 8)         0         \n",
      "_________________________________________________________________\n",
      "batch_normalization_4 (Batch (None, 34, 25, 8)         56        \n",
      "_________________________________________________________________\n",
      "flatten (Flatten)            (None, 6800)              0         \n",
      "_________________________________________________________________\n",
      "dense (Dense)                (None, 32)                217632    \n",
      "_________________________________________________________________\n",
      "dense_1 (Dense)              (None, 7)                 231       \n",
      "=================================================================\n",
      "Total params: 260,540\n",
      "Trainable params: 260,085\n",
      "Non-trainable params: 455\n",
      "_________________________________________________________________\n"
     ]
    }
   ],
   "source": [
    "model2 = keras.Sequential([\n",
    "    layers.InputLayer(input_shape=[600, 450, 3]),\n",
    "    \n",
    "    # Block One\n",
    "    layers.BatchNormalization(renorm=True),\n",
    "    layers.Conv2D(filters=32, kernel_size=5, activation=layers.LeakyReLU(alpha=0.01)),\n",
    "    layers.MaxPool2D(),\n",
    "\n",
    "    # Block Two\n",
    "    layers.BatchNormalization(renorm=True),\n",
    "    layers.Conv2D(filters=32, kernel_size=5, activation=layers.LeakyReLU(alpha=0.01)),\n",
    "    layers.MaxPool2D(),\n",
    "\n",
    "    # Block Three\n",
    "    layers.BatchNormalization(renorm=True),\n",
    "    layers.Conv2D(filters=16, kernel_size=5, activation=layers.LeakyReLU(alpha=0.01)),\n",
    "    layers.MaxPool2D(),\n",
    "    \n",
    "    # Block four\n",
    "    layers.BatchNormalization(renorm=True),\n",
    "    layers.Conv2D(filters=8, kernel_size=3, activation=layers.LeakyReLU(alpha=0.01)),\n",
    "    layers.MaxPool2D(),\n",
    "\n",
    "    # Head\n",
    "    layers.BatchNormalization(renorm=True),\n",
    "    layers.Flatten(),\n",
    "    layers.Dense(32, activation=layers.LeakyReLU(alpha=0.01)),\n",
    "    layers.Dense(7, activation='softmax'),\n",
    "])\n",
    "\n",
    "optimizer = tf.keras.optimizers.Adam(epsilon = 0.01)\n",
    "model2.compile(\n",
    "    optimizer=optimizer,\n",
    "    loss='categorical_crossentropy',\n",
    "    metrics=['categorical_accuracy'],\n",
    ")\n",
    "\n",
    "model2.summary()"
   ]
  },
  {
   "cell_type": "code",
   "execution_count": 33,
   "metadata": {},
   "outputs": [],
   "source": [
    "class_weights = {\n",
    "    0 : 1,\n",
    "    1 : 1,\n",
    "    2 : 1,\n",
    "    3 : 1,\n",
    "    4 : 5,\n",
    "    5 : 1,\n",
    "    6 : 1,\n",
    "}"
   ]
  },
  {
   "cell_type": "code",
   "execution_count": 34,
   "metadata": {},
   "outputs": [],
   "source": [
    "save = 1"
   ]
  },
  {
   "cell_type": "code",
   "execution_count": 35,
   "metadata": {},
   "outputs": [
    {
     "name": "stdout",
     "output_type": "stream",
     "text": [
      "501/501 [==============================] - 254s 501ms/step - loss: 2.0628 - categorical_accuracy: 0.4866 - val_loss: 1.1932 - val_categorical_accuracy: 0.4765\n"
     ]
    }
   ],
   "source": [
    "if save == 1:\n",
    "    history = model2.fit(\n",
    "        ds_train,\n",
    "        validation_data=ds_valid,\n",
    "        epochs=1,\n",
    "        use_multiprocessing=True,\n",
    "        class_weight = class_weights\n",
    "    )\n",
    "    model2.save_weights('model2')\n",
    "else:\n",
    "    model2.load_weights('model2')"
   ]
  },
  {
   "cell_type": "code",
   "execution_count": 36,
   "metadata": {},
   "outputs": [
    {
     "data": {
      "text/plain": [
       "array([[   1,   12,    1,    0,   63,   50,    0],\n",
       "       [   1,   28,    0,    1,  100,   77,    1],\n",
       "       [   1,   18,   13,    4,  303,  108,    0],\n",
       "       [   0,    5,    2,    0,   17,   21,    0],\n",
       "       [   1,    1,    1,    0,  413,   26,    0],\n",
       "       [   3,   18,    9,   10, 1117, 1491,   35],\n",
       "       [   0,    2,    1,    1,   25,   17,    9]], dtype=int64)"
      ]
     },
     "execution_count": 36,
     "metadata": {},
     "output_type": "execute_result"
    }
   ],
   "source": [
    "predictions = np.array([])\n",
    "labels =  np.array([])\n",
    "for x, y in ds_train:\n",
    "    predict_x=model2.predict(x) \n",
    "    classes_x=np.argmax(predict_x,axis=1)\n",
    "    predictions = np.concatenate([predictions, classes_x])\n",
    "    labels = np.concatenate([labels, np.argmax(y.numpy(), axis=-1)])\n",
    "\n",
    "confusion_matrix(y_true=labels, y_pred=predictions)"
   ]
  },
  {
   "cell_type": "code",
   "execution_count": 37,
   "metadata": {},
   "outputs": [
    {
     "data": {
      "text/plain": [
       "<AxesSubplot:>"
      ]
     },
     "execution_count": 37,
     "metadata": {},
     "output_type": "execute_result"
    },
    {
     "data": {
      "image/png": "[encoded data removed]",
      "text/plain": [
       "<Figure size 432x288 with 2 Axes>"
      ]
     },
     "metadata": {
      "needs_background": "light"
     },
     "output_type": "display_data"
    }
   ],
   "source": [
    "df = pd.DataFrame(confusion_matrix(y_true=labels, y_pred=predictions, normalize = 'true'),\n",
    "             columns = label_encoding,\n",
    "             index = label_encoding,)\n",
    "sns.heatmap(df, annot = True)"
   ]
  },
  {
   "cell_type": "code",
   "execution_count": 38,
   "metadata": {},
   "outputs": [
    {
     "data": {
      "text/plain": [
       "array([[  0,   4,   0,   0,  17,  15,   0],\n",
       "       [  0,   5,   1,   0,  24,  19,   0],\n",
       "       [  0,   5,   0,   0,  68,  31,   0],\n",
       "       [  0,   2,   0,   1,   4,   5,   0],\n",
       "       [  0,   0,   0,   0, 104,  11,   0],\n",
       "       [  1,   5,   3,   0, 290, 366,   4],\n",
       "       [  0,   0,   0,   0,   8,   7,   1]], dtype=int64)"
      ]
     },
     "execution_count": 38,
     "metadata": {},
     "output_type": "execute_result"
    }
   ],
   "source": [
    "predictions = np.array([])\n",
    "labels =  np.array([])\n",
    "for x, y in ds_valid:\n",
    "    predict_x=model2.predict(x) \n",
    "    classes_x=np.argmax(predict_x,axis=1)\n",
    "    predictions = np.concatenate([predictions, classes_x])\n",
    "    labels = np.concatenate([labels, np.argmax(y.numpy(), axis=-1)])\n",
    "\n",
    "confusion_matrix(y_true=labels, y_pred=predictions)"
   ]
  },
  {
   "cell_type": "code",
   "execution_count": 39,
   "metadata": {},
   "outputs": [
    {
     "data": {
      "text/plain": [
       "<AxesSubplot:>"
      ]
     },
     "execution_count": 39,
     "metadata": {},
     "output_type": "execute_result"
    },
    {
     "data": {
      "image/png": "[encoded data removed]",
      "text/plain": [
       "<Figure size 432x288 with 2 Axes>"
      ]
     },
     "metadata": {
      "needs_background": "light"
     },
     "output_type": "display_data"
    }
   ],
   "source": [
    "df = pd.DataFrame(confusion_matrix(y_true=labels, y_pred=predictions, normalize = 'true'),\n",
    "             columns = label_encoding,\n",
    "             index = label_encoding,)\n",
    "sns.heatmap(df, annot = True)"
   ]
  },
  {
   "cell_type": "code",
   "execution_count": 14,
   "metadata": {},
   "outputs": [],
   "source": [
    "keras.backend.clear_session()"
   ]
  },
  {
   "cell_type": "markdown",
   "metadata": {},
   "source": [
    "# binary classification"
   ]
  },
  {
   "cell_type": "code",
   "execution_count": 15,
   "metadata": {},
   "outputs": [
    {
     "name": "stdout",
     "output_type": "stream",
     "text": [
      "Found 5008 files belonging to 2 classes.\n",
      "Using 4007 files for training.\n",
      "Found 5008 files belonging to 2 classes.\n",
      "Using 1001 files for validation.\n"
     ]
    }
   ],
   "source": [
    "# Load training and validation sets\n",
    "ds_train_ = image_dataset_from_directory(\n",
    "    'data/binary_class',\n",
    "    labels='inferred',\n",
    "    label_mode='binary',\n",
    "    image_size=[600, 450],\n",
    "    interpolation='nearest',\n",
    "    batch_size=8,\n",
    "    shuffle=True,\n",
    "    color_mode = 'rgb',\n",
    "    validation_split = 0.2,\n",
    "    subset = 'training',\n",
    "    seed = 1\n",
    ")\n",
    "ds_valid_ = image_dataset_from_directory(\n",
    "    'data/binary_class',\n",
    "    labels='inferred',\n",
    "    label_mode='binary',\n",
    "    image_size=[600, 450],\n",
    "    interpolation='nearest',\n",
    "    batch_size=8,\n",
    "    shuffle=True,\n",
    "    color_mode = 'rgb',\n",
    "    validation_split = 0.2,\n",
    "    subset = 'validation',\n",
    "    seed = 1\n",
    ")\n",
    "\n",
    "# Data Pipeline\n",
    "def convert_to_float(image, label):\n",
    "    image = tf.image.convert_image_dtype(image, dtype=tf.float32)\n",
    "    return image, label\n",
    "\n",
    "AUTOTUNE = tf.data.experimental.AUTOTUNE\n",
    "ds_train = (\n",
    "    ds_train_\n",
    "    .map(convert_to_float)\n",
    "    .cache()\n",
    "    .prefetch(buffer_size=AUTOTUNE)\n",
    ")\n",
    "ds_valid = (\n",
    "    ds_valid_\n",
    "    .map(convert_to_float)\n",
    "    .cache()\n",
    "    .prefetch(buffer_size=AUTOTUNE)\n",
    ")"
   ]
  },
  {
   "cell_type": "code",
   "execution_count": 17,
   "metadata": {},
   "outputs": [
    {
     "name": "stdout",
     "output_type": "stream",
     "text": [
      "Model: \"sequential_3\"\n",
      "_________________________________________________________________\n",
      "Layer (type)                 Output Shape              Param #   \n",
      "=================================================================\n",
      "batch_normalization_8 (Batch (None, 600, 450, 3)       21        \n",
      "_________________________________________________________________\n",
      "conv2d_10 (Conv2D)           (None, 596, 446, 32)      2432      \n",
      "_________________________________________________________________\n",
      "max_pooling2d_10 (MaxPooling (None, 298, 223, 32)      0         \n",
      "_________________________________________________________________\n",
      "batch_normalization_9 (Batch (None, 298, 223, 32)      224       \n",
      "_________________________________________________________________\n",
      "conv2d_11 (Conv2D)           (None, 294, 219, 32)      25632     \n",
      "_________________________________________________________________\n",
      "max_pooling2d_11 (MaxPooling (None, 147, 109, 32)      0         \n",
      "_________________________________________________________________\n",
      "batch_normalization_10 (Batc (None, 147, 109, 32)      224       \n",
      "_________________________________________________________________\n",
      "conv2d_12 (Conv2D)           (None, 143, 105, 16)      12816     \n",
      "_________________________________________________________________\n",
      "max_pooling2d_12 (MaxPooling (None, 71, 52, 16)        0         \n",
      "_________________________________________________________________\n",
      "batch_normalization_11 (Batc (None, 71, 52, 16)        112       \n",
      "_________________________________________________________________\n",
      "conv2d_13 (Conv2D)           (None, 69, 50, 8)         1160      \n",
      "_________________________________________________________________\n",
      "max_pooling2d_13 (MaxPooling (None, 34, 25, 8)         0         \n",
      "_________________________________________________________________\n",
      "batch_normalization_12 (Batc (None, 34, 25, 8)         56        \n",
      "_________________________________________________________________\n",
      "flatten_2 (Flatten)          (None, 6800)              0         \n",
      "_________________________________________________________________\n",
      "dense_4 (Dense)              (None, 32)                217632    \n",
      "_________________________________________________________________\n",
      "dense_5 (Dense)              (None, 1)                 33        \n",
      "=================================================================\n",
      "Total params: 260,342\n",
      "Trainable params: 259,887\n",
      "Non-trainable params: 455\n",
      "_________________________________________________________________\n"
     ]
    }
   ],
   "source": [
    "model3 = keras.Sequential([\n",
    "    layers.InputLayer(input_shape=[600, 450, 3]),\n",
    "    \n",
    "    # Block One\n",
    "    layers.BatchNormalization(renorm=True),\n",
    "    layers.Conv2D(filters=32, kernel_size=5, activation=layers.LeakyReLU(alpha=0.01)),\n",
    "    layers.MaxPool2D(),\n",
    "\n",
    "    # Block Two\n",
    "    layers.BatchNormalization(renorm=True),\n",
    "    layers.Conv2D(filters=32, kernel_size=5, activation=layers.LeakyReLU(alpha=0.01)),\n",
    "    layers.MaxPool2D(),\n",
    "\n",
    "    # Block Three\n",
    "    layers.BatchNormalization(renorm=True),\n",
    "    layers.Conv2D(filters=16, kernel_size=5, activation=layers.LeakyReLU(alpha=0.01)),\n",
    "    layers.MaxPool2D(),\n",
    "    \n",
    "    # Block four\n",
    "    layers.BatchNormalization(renorm=True),\n",
    "    layers.Conv2D(filters=8, kernel_size=3, activation=layers.LeakyReLU(alpha=0.01)),\n",
    "    layers.MaxPool2D(),\n",
    "\n",
    "    # Head\n",
    "    layers.BatchNormalization(renorm=True),\n",
    "    layers.Flatten(),\n",
    "    layers.Dense(32, activation=layers.LeakyReLU(alpha=0.01)),\n",
    "    \n",
    "    # output\n",
    "    layers.Dense(1, activation='sigmoid'),\n",
    "])\n",
    "\n",
    "optimizer = tf.keras.optimizers.Adam(epsilon = 0.01)\n",
    "model3.compile(\n",
    "    optimizer=optimizer,\n",
    "    loss='binary_crossentropy',\n",
    "    metrics=['accuracy'],\n",
    ")\n",
    "\n",
    "model3.summary()"
   ]
  },
  {
   "cell_type": "code",
   "execution_count": 18,
   "metadata": {},
   "outputs": [],
   "source": [
    "class_weights = {\n",
    "    0 : 1,\n",
    "    1 : 7\n",
    "}"
   ]
  },
  {
   "cell_type": "code",
   "execution_count": 9,
   "metadata": {},
   "outputs": [],
   "source": [
    "save = 0"
   ]
  },
  {
   "cell_type": "code",
   "execution_count": 19,
   "metadata": {},
   "outputs": [],
   "source": [
    "if save == 1:\n",
    "    history = model3.fit(\n",
    "        ds_train,\n",
    "        validation_data=ds_valid,\n",
    "        epochs=2,\n",
    "        use_multiprocessing=True,\n",
    "        class_weight = class_weights)\n",
    "    model3.save_weights('model3')\n",
    "else:\n",
    "    model3.load_weights('model3')"
   ]
  },
  {
   "cell_type": "code",
   "execution_count": 46,
   "metadata": {},
   "outputs": [],
   "source": [
    "predictions = []\n",
    "labels =  []\n",
    "for x, y in ds_train:\n",
    "    predictions = predictions + model3.predict(x).tolist()\n",
    "    labels = labels + y.numpy().tolist()"
   ]
  },
  {
   "cell_type": "code",
   "execution_count": 47,
   "metadata": {},
   "outputs": [],
   "source": [
    "predictions = [x[0] for x in predictions]\n",
    "labels = [x[0] for x in labels]"
   ]
  },
  {
   "cell_type": "code",
   "execution_count": 48,
   "metadata": {},
   "outputs": [],
   "source": [
    "temp = pd.DataFrame({\n",
    "    'prob' : predictions,\n",
    "    'label':labels\n",
    "})"
   ]
  },
  {
   "cell_type": "code",
   "execution_count": 49,
   "metadata": {},
   "outputs": [
    {
     "data": {
      "image/png": "[encoded data removed]",
      "text/plain": [
       "<Figure size 432x288 with 1 Axes>"
      ]
     },
     "metadata": {
      "needs_background": "light"
     },
     "output_type": "display_data"
    }
   ],
   "source": [
    "sns.histplot(data = temp, x = 'prob', hue = 'label')\n",
    "plt.show()"
   ]
  },
  {
   "cell_type": "code",
   "execution_count": 50,
   "metadata": {},
   "outputs": [
    {
     "data": {
      "image/png": "[encoded data removed]",
      "text/plain": [
       "<Figure size 432x288 with 1 Axes>"
      ]
     },
     "metadata": {
      "needs_background": "light"
     },
     "output_type": "display_data"
    }
   ],
   "source": [
    "nbins = 10\n",
    "bins = list(range(0, 100, int(100 / nbins)))\n",
    "bins = [b/100 for b in bins]\n",
    "\n",
    "def create_bins(p):\n",
    "    for i in range(nbins):\n",
    "        if i == nbins - 1:\n",
    "            if (p > bins[i]) and (p < 1):\n",
    "                return bins[i]\n",
    "            else:\n",
    "                return 1\n",
    "        if (p > bins[i]) and (p < bins[i+1]):\n",
    "            return bins[i]\n",
    "    return 0\n",
    "\n",
    "temp['binned_probability'] = temp['prob'].apply(create_bins)\n",
    "temp.groupby('binned_probability')['label'].mean().plot(label = 'Neural Network')\n",
    "plt.plot([0, 0.8] , [0, 0.8], 'k--',label = 'Ideal')\n",
    "plt.title(\"Calibration\")\n",
    "plt.legend()\n",
    "plt.show()"
   ]
  },
  {
   "cell_type": "code",
   "execution_count": 51,
   "metadata": {},
   "outputs": [
    {
     "data": {
      "image/png": "[encoded data removed]",
      "text/plain": [
       "<Figure size 432x288 with 2 Axes>"
      ]
     },
     "metadata": {
      "needs_background": "light"
     },
     "output_type": "display_data"
    }
   ],
   "source": [
    "predicted_class = [1 if p > 0.3 else 0 for p in predictions]\n",
    "confusion_matrix(y_true=labels, y_pred=predicted_class)\n",
    "df = pd.DataFrame(confusion_matrix(y_true=labels, y_pred=predicted_class),\n",
    "             columns = ['Predicted No', 'Predicted Yes'],\n",
    "             index = ['Actual No', 'Actual Yes'],)\n",
    "sns.heatmap(df, annot = True, fmt = 'd')\n",
    "plt.title(\"Validation set confusion matrix with 0.3 probability threshold\")\n",
    "plt.show()"
   ]
  },
  {
   "cell_type": "code",
   "execution_count": 52,
   "metadata": {},
   "outputs": [
    {
     "data": {
      "image/png": "[encoded data removed]",
      "text/plain": [
       "<Figure size 432x288 with 1 Axes>"
      ]
     },
     "metadata": {
      "needs_background": "light"
     },
     "output_type": "display_data"
    }
   ],
   "source": [
    "predictions = []\n",
    "labels =  []\n",
    "for x, y in ds_valid:\n",
    "    predictions = predictions + model3.predict(x).tolist()\n",
    "    labels = labels + y.numpy().tolist()\n",
    "predictions = [x[0] for x in predictions]\n",
    "labels = [x[0] for x in labels]\n",
    "temp = pd.DataFrame({\n",
    "    'prob' : predictions,\n",
    "    'label':labels\n",
    "})\n",
    "sns.histplot(data = temp, x = 'prob', hue = 'label')\n",
    "plt.show()"
   ]
  },
  {
   "cell_type": "code",
   "execution_count": 53,
   "metadata": {},
   "outputs": [
    {
     "data": {
      "image/png": "[encoded data removed]",
      "text/plain": [
       "<Figure size 432x288 with 2 Axes>"
      ]
     },
     "metadata": {
      "needs_background": "light"
     },
     "output_type": "display_data"
    }
   ],
   "source": [
    "predicted_class = [1 if p > 0.3 else 0 for p in predictions]\n",
    "confusion_matrix(y_true=labels, y_pred=predicted_class)\n",
    "df = pd.DataFrame(confusion_matrix(y_true=labels, y_pred=predicted_class),\n",
    "             columns = ['Predicted No', 'Predicted Yes'],\n",
    "             index = ['Actual No', 'Actual Yes'],)\n",
    "sns.heatmap(df, annot = True, fmt = 'd')\n",
    "plt.title(\"Validation set confusion matrix with 0.3 probability threshold\")\n",
    "plt.show()"
   ]
  },
  {
   "cell_type": "code",
   "execution_count": 7,
   "metadata": {},
   "outputs": [
    {
     "name": "stdout",
     "output_type": "stream",
     "text": [
      "Model: \"sequential\"\n",
      "_________________________________________________________________\n",
      "Layer (type)                 Output Shape              Param #   \n",
      "=================================================================\n",
      "batch_normalization (BatchNo (None, 600, 450, 3)       21        \n",
      "_________________________________________________________________\n",
      "conv2d (Conv2D)              (None, 592, 442, 32)      7808      \n",
      "_________________________________________________________________\n",
      "max_pooling2d (MaxPooling2D) (None, 296, 221, 32)      0         \n",
      "_________________________________________________________________\n",
      "batch_normalization_1 (Batch (None, 296, 221, 32)      224       \n",
      "_________________________________________________________________\n",
      "conv2d_1 (Conv2D)            (None, 290, 215, 32)      50208     \n",
      "_________________________________________________________________\n",
      "max_pooling2d_1 (MaxPooling2 (None, 145, 107, 32)      0         \n",
      "_________________________________________________________________\n",
      "batch_normalization_2 (Batch (None, 145, 107, 32)      224       \n",
      "_________________________________________________________________\n",
      "conv2d_2 (Conv2D)            (None, 141, 103, 16)      12816     \n",
      "_________________________________________________________________\n",
      "max_pooling2d_2 (MaxPooling2 (None, 70, 51, 16)        0         \n",
      "_________________________________________________________________\n",
      "batch_normalization_3 (Batch (None, 70, 51, 16)        112       \n",
      "_________________________________________________________________\n",
      "conv2d_3 (Conv2D)            (None, 66, 47, 16)        6416      \n",
      "_________________________________________________________________\n",
      "max_pooling2d_3 (MaxPooling2 (None, 33, 23, 16)        0         \n",
      "_________________________________________________________________\n",
      "batch_normalization_4 (Batch (None, 33, 23, 16)        112       \n",
      "_________________________________________________________________\n",
      "conv2d_4 (Conv2D)            (None, 31, 21, 8)         1160      \n",
      "_________________________________________________________________\n",
      "max_pooling2d_4 (MaxPooling2 (None, 15, 10, 8)         0         \n",
      "_________________________________________________________________\n",
      "batch_normalization_5 (Batch (None, 15, 10, 8)         56        \n",
      "_________________________________________________________________\n",
      "flatten (Flatten)            (None, 1200)              0         \n",
      "_________________________________________________________________\n",
      "dense (Dense)                (None, 32)                38432     \n",
      "_________________________________________________________________\n",
      "dense_1 (Dense)              (None, 1)                 33        \n",
      "=================================================================\n",
      "Total params: 117,622\n",
      "Trainable params: 117,087\n",
      "Non-trainable params: 535\n",
      "_________________________________________________________________\n"
     ]
    }
   ],
   "source": [
    "model4 = keras.Sequential([\n",
    "    layers.InputLayer(input_shape=[600, 450, 3]),\n",
    "    \n",
    "    # Block One\n",
    "    # layers.BatchNormalization(renorm=True),\n",
    "#     layers.Rescaling(scale = 1./255),\n",
    "    layers.BatchNormalization(renorm=True),\n",
    "    layers.Conv2D(filters=32, kernel_size=9, activation=layers.LeakyReLU(alpha=0.01)),\n",
    "    layers.MaxPool2D(),\n",
    "\n",
    "    # Block Two\n",
    "    layers.BatchNormalization(renorm=True),\n",
    "    layers.Conv2D(filters=32, kernel_size=7, activation=layers.LeakyReLU(alpha=0.01)),\n",
    "    layers.MaxPool2D(),\n",
    "\n",
    "    # Block Three\n",
    "    layers.BatchNormalization(renorm=True),\n",
    "    layers.Conv2D(filters=16, kernel_size=5, activation=layers.LeakyReLU(alpha=0.01)),\n",
    "    layers.MaxPool2D(),\n",
    "    \n",
    "    # Block Four\n",
    "    layers.BatchNormalization(renorm=True),\n",
    "    layers.Conv2D(filters=16, kernel_size=5, activation=layers.LeakyReLU(alpha=0.01)),\n",
    "    layers.MaxPool2D(),\n",
    "    \n",
    "    # Block four\n",
    "    layers.BatchNormalization(renorm=True),\n",
    "    layers.Conv2D(filters=8, kernel_size=3, activation=layers.LeakyReLU(alpha=0.01)),\n",
    "    layers.MaxPool2D(),\n",
    "\n",
    "    # Head\n",
    "    layers.BatchNormalization(renorm=True),\n",
    "    layers.Flatten(),\n",
    "    layers.Dense(32, activation=layers.LeakyReLU(alpha=0.01)),\n",
    "    \n",
    "    # output\n",
    "    layers.Dense(1, activation='sigmoid'),\n",
    "])\n",
    "\n",
    "optimizer = tf.keras.optimizers.Adam(epsilon=0.01)\n",
    "model4.compile(\n",
    "    optimizer=optimizer,\n",
    "    loss='binary_crossentropy',\n",
    "    metrics=['accuracy'],\n",
    ")\n",
    "\n",
    "model4.summary()"
   ]
  },
  {
   "cell_type": "code",
   "execution_count": 8,
   "metadata": {},
   "outputs": [],
   "source": [
    "save = 1"
   ]
  },
  {
   "cell_type": "code",
   "execution_count": 10,
   "metadata": {},
   "outputs": [
    {
     "name": "stdout",
     "output_type": "stream",
     "text": [
      "501/501 [==============================] - 381s 760ms/step - loss: 0.9382 - accuracy: 0.6571 - val_loss: 0.7082 - val_accuracy: 0.5315\n"
     ]
    }
   ],
   "source": [
    "if save == 1:\n",
    "    history = model4.fit(\n",
    "        ds_train,\n",
    "        validation_data=ds_valid,\n",
    "        epochs=1,\n",
    "        use_multiprocessing=True,\n",
    "        class_weight = {0:1, 1:7}\n",
    "    )\n",
    "    model4.save_weights('model4')\n",
    "else:\n",
    "    model4.load_weights('model4')\n"
   ]
  },
  {
   "cell_type": "code",
   "execution_count": 11,
   "metadata": {},
   "outputs": [
    {
     "data": {
      "image/png": "[encoded data removed]",
      "text/plain": [
       "<Figure size 432x288 with 1 Axes>"
      ]
     },
     "metadata": {
      "needs_background": "light"
     },
     "output_type": "display_data"
    }
   ],
   "source": [
    "predictions = []\n",
    "labels =  []\n",
    "for x, y in ds_train:\n",
    "    predictions = predictions + model4.predict(x).tolist()\n",
    "    labels = labels + y.numpy().tolist()\n",
    "    \n",
    "predictions = [x[0] for x in predictions]\n",
    "labels = [x[0] for x in labels]\n",
    "\n",
    "temp = pd.DataFrame({\n",
    "    'prob' : predictions,\n",
    "    'label':labels\n",
    "})\n",
    "\n",
    "sns.histplot(data = temp, x = 'prob', hue = 'label')\n",
    "plt.show()"
   ]
  },
  {
   "cell_type": "code",
   "execution_count": 12,
   "metadata": {},
   "outputs": [
    {
     "data": {
      "image/png": "[encoded data removed]",
      "text/plain": [
       "<Figure size 432x288 with 1 Axes>"
      ]
     },
     "metadata": {
      "needs_background": "light"
     },
     "output_type": "display_data"
    }
   ],
   "source": [
    "nbins = 10\n",
    "bins = list(range(0, 100, int(100 / nbins)))\n",
    "bins = [b/100 for b in bins]\n",
    "\n",
    "def create_bins(p):\n",
    "    for i in range(nbins):\n",
    "        if i == nbins - 1:\n",
    "            if (p > bins[i]) and (p < 1):\n",
    "                return bins[i]\n",
    "            else:\n",
    "                return 1\n",
    "        if (p > bins[i]) and (p < bins[i+1]):\n",
    "            return bins[i]\n",
    "    return 0\n",
    "\n",
    "temp['binned_probability'] = temp['prob'].apply(create_bins)\n",
    "temp.groupby('binned_probability')['label'].mean().plot(label = 'Neural Network')\n",
    "plt.plot([0, 0.8] , [0, 0.8], 'k--',label = 'Ideal')\n",
    "plt.title(\"Calibration\")\n",
    "plt.legend()\n",
    "plt.show()"
   ]
  },
  {
   "cell_type": "code",
   "execution_count": 13,
   "metadata": {},
   "outputs": [
    {
     "data": {
      "image/png": "[encoded data removed]",
      "text/plain": [
       "<Figure size 432x288 with 2 Axes>"
      ]
     },
     "metadata": {
      "needs_background": "light"
     },
     "output_type": "display_data"
    }
   ],
   "source": [
    "predicted_class = [1 if p > 0.3 else 0 for p in predictions]\n",
    "confusion_matrix(y_true=labels, y_pred=predicted_class)\n",
    "df = pd.DataFrame(confusion_matrix(y_true=labels, y_pred=predicted_class),\n",
    "             columns = ['Predicted No', 'Predicted Yes'],\n",
    "             index = ['Actual No', 'Actual Yes'],)\n",
    "sns.heatmap(df, annot = True, fmt = 'd')\n",
    "plt.title(\"Validation set confusion matrix with 0.3 probability threshold\")\n",
    "plt.show()"
   ]
  },
  {
   "cell_type": "code",
   "execution_count": 14,
   "metadata": {},
   "outputs": [
    {
     "data": {
      "image/png": "[encoded data removed]",
      "text/plain": [
       "<Figure size 432x288 with 1 Axes>"
      ]
     },
     "metadata": {
      "needs_background": "light"
     },
     "output_type": "display_data"
    }
   ],
   "source": [
    "predictions = []\n",
    "labels =  []\n",
    "for x, y in ds_valid:\n",
    "    predictions = predictions + model4.predict(x).tolist()\n",
    "    labels = labels + y.numpy().tolist()\n",
    "    \n",
    "predictions = [x[0] for x in predictions]\n",
    "labels = [x[0] for x in labels]\n",
    "\n",
    "temp = pd.DataFrame({\n",
    "    'prob' : predictions,\n",
    "    'label':labels\n",
    "})\n",
    "\n",
    "sns.histplot(data = temp, x = 'prob', hue = 'label')\n",
    "plt.show()"
   ]
  },
  {
   "cell_type": "code",
   "execution_count": 15,
   "metadata": {},
   "outputs": [
    {
     "data": {
      "image/png": "[encoded data removed]",
      "text/plain": [
       "<Figure size 432x288 with 1 Axes>"
      ]
     },
     "metadata": {
      "needs_background": "light"
     },
     "output_type": "display_data"
    }
   ],
   "source": [
    "nbins = 10\n",
    "bins = list(range(0, 100, int(100 / nbins)))\n",
    "bins = [b/100 for b in bins]\n",
    "\n",
    "def create_bins(p):\n",
    "    for i in range(nbins):\n",
    "        if i == nbins - 1:\n",
    "            if (p > bins[i]) and (p < 1):\n",
    "                return bins[i]\n",
    "            else:\n",
    "                return 1\n",
    "        if (p > bins[i]) and (p < bins[i+1]):\n",
    "            return bins[i]\n",
    "    return 0\n",
    "\n",
    "temp['binned_probability'] = temp['prob'].apply(create_bins)\n",
    "temp.groupby('binned_probability')['label'].mean().plot(label = 'Neural Network')\n",
    "plt.plot([0, 0.8] , [0, 0.8], 'k--',label = 'Ideal')\n",
    "plt.title(\"Calibration\")\n",
    "plt.legend()\n",
    "plt.show()"
   ]
  },
  {
   "cell_type": "code",
   "execution_count": 16,
   "metadata": {},
   "outputs": [
    {
     "data": {
      "image/png": "[encoded data removed]",
      "text/plain": [
       "<Figure size 432x288 with 2 Axes>"
      ]
     },
     "metadata": {
      "needs_background": "light"
     },
     "output_type": "display_data"
    }
   ],
   "source": [
    "predicted_class = [1 if p > 0.3 else 0 for p in predictions]\n",
    "confusion_matrix(y_true=labels, y_pred=predicted_class)\n",
    "df = pd.DataFrame(confusion_matrix(y_true=labels, y_pred=predicted_class),\n",
    "             columns = ['Predicted No', 'Predicted Yes'],\n",
    "             index = ['Actual No', 'Actual Yes'],)\n",
    "sns.heatmap(df, annot = True, fmt = 'd')\n",
    "plt.title(\"Validation set confusion matrix with 0.3 probability threshold\")\n",
    "plt.show()"
   ]
  },
  {
   "cell_type": "code",
   "execution_count": 29,
   "metadata": {},
   "outputs": [],
   "source": [
    "keras.backend.clear_session()"
   ]
  }
 ],
 "metadata": {
  "kernelspec": {
   "display_name": "Python 3 (ipykernel)",
   "language": "python",
   "name": "python3"
  },
  "language_info": {
   "codemirror_mode": {
    "name": "ipython",
    "version": 3
   },
   "file_extension": ".py",
   "mimetype": "text/x-python",
   "name": "python",
   "nbconvert_exporter": "python",
   "pygments_lexer": "ipython3",
   "version": "3.9.7"
  },
  "varInspector": {
   "cols": {
    "lenName": 16,
    "lenType": 16,
    "lenVar": 40
   },
   "kernels_config": {
    "python": {
     "delete_cmd_postfix": "",
     "delete_cmd_prefix": "del ",
     "library": "var_list.py",
     "varRefreshCmd": "print(var_dic_list())"
    },
    "r": {
     "delete_cmd_postfix": ") ",
     "delete_cmd_prefix": "rm(",
     "library": "var_list.r",
     "varRefreshCmd": "cat(var_dic_list()) "
    }
   },
   "types_to_exclude": [
    "module",
    "function",
    "builtin_function_or_method",
    "instance",
    "_Feature"
   ],
   "window_display": false
  }
 },
 "nbformat": 4,
 "nbformat_minor": 4
}
